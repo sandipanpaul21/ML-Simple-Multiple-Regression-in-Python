{
  "nbformat": 4,
  "nbformat_minor": 0,
  "metadata": {
    "colab": {
      "name": "Day 16 Simple and Multiple Regression.ipynb",
      "provenance": [],
      "collapsed_sections": [],
      "authorship_tag": "ABX9TyP3daddsjDhXZ17CoSmuNyw"
    },
    "kernelspec": {
      "name": "python3",
      "display_name": "Python 3"
    }
  },
  "cells": [
    {
      "cell_type": "code",
      "metadata": {
        "id": "VGe8PLvZqOpy",
        "colab": {
          "base_uri": "https://localhost:8080/"
        },
        "outputId": "fbd45f76-d99a-4595-9d33-f4f1b66bcacc"
      },
      "source": [
        "# Libraries \n",
        " \n",
        "from sklearn import datasets \n",
        "import pandas as pd\n",
        "import seaborn as sns\n",
        "import numpy as np\n",
        "import statsmodels.stats.api as sms\n",
        "from statsmodels.compat import lzip\n",
        "from statsmodels.stats.outliers_influence import variance_inflation_factor\n",
        "import statsmodels.api as sm\n",
        "import warnings\n",
        "warnings.filterwarnings(\"ignore\")"
      ],
      "execution_count": null,
      "outputs": [
        {
          "output_type": "stream",
          "name": "stderr",
          "text": [
            "/usr/local/lib/python3.7/dist-packages/statsmodels/tools/_testing.py:19: FutureWarning: pandas.util.testing is deprecated. Use the functions in the public API at pandas.testing instead.\n",
            "  import pandas.util.testing as tm\n"
          ]
        }
      ]
    },
    {
      "cell_type": "code",
      "metadata": {
        "id": "8eoxSpcYp6I4",
        "colab": {
          "base_uri": "https://localhost:8080/",
          "height": 204
        },
        "outputId": "9678cb52-bc86-4dab-b4f7-746dcb0074a6"
      },
      "source": [
        "# Boston Dataset for Regression\n",
        "boston = datasets.load_boston()\n",
        "boston_pd = pd.DataFrame(boston.data)\n",
        "boston_pd.columns = boston.feature_names\n",
        "boston_pd[\"HOUSEPRICE\"] = boston.target\n",
        "boston_pd.head()"
      ],
      "execution_count": null,
      "outputs": [
        {
          "output_type": "execute_result",
          "data": {
            "text/html": [
              "<div>\n",
              "<style scoped>\n",
              "    .dataframe tbody tr th:only-of-type {\n",
              "        vertical-align: middle;\n",
              "    }\n",
              "\n",
              "    .dataframe tbody tr th {\n",
              "        vertical-align: top;\n",
              "    }\n",
              "\n",
              "    .dataframe thead th {\n",
              "        text-align: right;\n",
              "    }\n",
              "</style>\n",
              "<table border=\"1\" class=\"dataframe\">\n",
              "  <thead>\n",
              "    <tr style=\"text-align: right;\">\n",
              "      <th></th>\n",
              "      <th>CRIM</th>\n",
              "      <th>ZN</th>\n",
              "      <th>INDUS</th>\n",
              "      <th>CHAS</th>\n",
              "      <th>NOX</th>\n",
              "      <th>RM</th>\n",
              "      <th>AGE</th>\n",
              "      <th>DIS</th>\n",
              "      <th>RAD</th>\n",
              "      <th>TAX</th>\n",
              "      <th>PTRATIO</th>\n",
              "      <th>B</th>\n",
              "      <th>LSTAT</th>\n",
              "      <th>HOUSEPRICE</th>\n",
              "    </tr>\n",
              "  </thead>\n",
              "  <tbody>\n",
              "    <tr>\n",
              "      <th>0</th>\n",
              "      <td>0.00632</td>\n",
              "      <td>18.0</td>\n",
              "      <td>2.31</td>\n",
              "      <td>0.0</td>\n",
              "      <td>0.538</td>\n",
              "      <td>6.575</td>\n",
              "      <td>65.2</td>\n",
              "      <td>4.0900</td>\n",
              "      <td>1.0</td>\n",
              "      <td>296.0</td>\n",
              "      <td>15.3</td>\n",
              "      <td>396.90</td>\n",
              "      <td>4.98</td>\n",
              "      <td>24.0</td>\n",
              "    </tr>\n",
              "    <tr>\n",
              "      <th>1</th>\n",
              "      <td>0.02731</td>\n",
              "      <td>0.0</td>\n",
              "      <td>7.07</td>\n",
              "      <td>0.0</td>\n",
              "      <td>0.469</td>\n",
              "      <td>6.421</td>\n",
              "      <td>78.9</td>\n",
              "      <td>4.9671</td>\n",
              "      <td>2.0</td>\n",
              "      <td>242.0</td>\n",
              "      <td>17.8</td>\n",
              "      <td>396.90</td>\n",
              "      <td>9.14</td>\n",
              "      <td>21.6</td>\n",
              "    </tr>\n",
              "    <tr>\n",
              "      <th>2</th>\n",
              "      <td>0.02729</td>\n",
              "      <td>0.0</td>\n",
              "      <td>7.07</td>\n",
              "      <td>0.0</td>\n",
              "      <td>0.469</td>\n",
              "      <td>7.185</td>\n",
              "      <td>61.1</td>\n",
              "      <td>4.9671</td>\n",
              "      <td>2.0</td>\n",
              "      <td>242.0</td>\n",
              "      <td>17.8</td>\n",
              "      <td>392.83</td>\n",
              "      <td>4.03</td>\n",
              "      <td>34.7</td>\n",
              "    </tr>\n",
              "    <tr>\n",
              "      <th>3</th>\n",
              "      <td>0.03237</td>\n",
              "      <td>0.0</td>\n",
              "      <td>2.18</td>\n",
              "      <td>0.0</td>\n",
              "      <td>0.458</td>\n",
              "      <td>6.998</td>\n",
              "      <td>45.8</td>\n",
              "      <td>6.0622</td>\n",
              "      <td>3.0</td>\n",
              "      <td>222.0</td>\n",
              "      <td>18.7</td>\n",
              "      <td>394.63</td>\n",
              "      <td>2.94</td>\n",
              "      <td>33.4</td>\n",
              "    </tr>\n",
              "    <tr>\n",
              "      <th>4</th>\n",
              "      <td>0.06905</td>\n",
              "      <td>0.0</td>\n",
              "      <td>2.18</td>\n",
              "      <td>0.0</td>\n",
              "      <td>0.458</td>\n",
              "      <td>7.147</td>\n",
              "      <td>54.2</td>\n",
              "      <td>6.0622</td>\n",
              "      <td>3.0</td>\n",
              "      <td>222.0</td>\n",
              "      <td>18.7</td>\n",
              "      <td>396.90</td>\n",
              "      <td>5.33</td>\n",
              "      <td>36.2</td>\n",
              "    </tr>\n",
              "  </tbody>\n",
              "</table>\n",
              "</div>"
            ],
            "text/plain": [
              "      CRIM    ZN  INDUS  CHAS    NOX  ...    TAX  PTRATIO       B  LSTAT  HOUSEPRICE\n",
              "0  0.00632  18.0   2.31   0.0  0.538  ...  296.0     15.3  396.90   4.98        24.0\n",
              "1  0.02731   0.0   7.07   0.0  0.469  ...  242.0     17.8  396.90   9.14        21.6\n",
              "2  0.02729   0.0   7.07   0.0  0.469  ...  242.0     17.8  392.83   4.03        34.7\n",
              "3  0.03237   0.0   2.18   0.0  0.458  ...  222.0     18.7  394.63   2.94        33.4\n",
              "4  0.06905   0.0   2.18   0.0  0.458  ...  222.0     18.7  396.90   5.33        36.2\n",
              "\n",
              "[5 rows x 14 columns]"
            ]
          },
          "metadata": {},
          "execution_count": 2
        }
      ]
    },
    {
      "cell_type": "code",
      "metadata": {
        "id": "11nahMRNstZv",
        "colab": {
          "base_uri": "https://localhost:8080/"
        },
        "outputId": "f29260b9-a025-41dc-c064-2159b10c02f0"
      },
      "source": [
        "# Dataset overall Information\n",
        "boston_pd.info()"
      ],
      "execution_count": null,
      "outputs": [
        {
          "output_type": "stream",
          "name": "stdout",
          "text": [
            "<class 'pandas.core.frame.DataFrame'>\n",
            "RangeIndex: 506 entries, 0 to 505\n",
            "Data columns (total 14 columns):\n",
            " #   Column      Non-Null Count  Dtype  \n",
            "---  ------      --------------  -----  \n",
            " 0   CRIM        506 non-null    float64\n",
            " 1   ZN          506 non-null    float64\n",
            " 2   INDUS       506 non-null    float64\n",
            " 3   CHAS        506 non-null    float64\n",
            " 4   NOX         506 non-null    float64\n",
            " 5   RM          506 non-null    float64\n",
            " 6   AGE         506 non-null    float64\n",
            " 7   DIS         506 non-null    float64\n",
            " 8   RAD         506 non-null    float64\n",
            " 9   TAX         506 non-null    float64\n",
            " 10  PTRATIO     506 non-null    float64\n",
            " 11  B           506 non-null    float64\n",
            " 12  LSTAT       506 non-null    float64\n",
            " 13  HOUSEPRICE  506 non-null    float64\n",
            "dtypes: float64(14)\n",
            "memory usage: 55.5 KB\n"
          ]
        }
      ]
    },
    {
      "cell_type": "code",
      "metadata": {
        "id": "lJ4_Os_JqrRo",
        "colab": {
          "base_uri": "https://localhost:8080/"
        },
        "outputId": "88107e5a-48bc-4dbf-d7bd-76565c9507be"
      },
      "source": [
        "# Let set the BASE MODEL on which we will improve\n",
        "\n",
        "# Assigning Independent and Dependent variables\n",
        "dependent_variable = boston_pd[['HOUSEPRICE']]\n",
        "print(\"DEPENDENT VARIABLE : \",dependent_variable.columns)\n",
        "print(\"\\n\")\n",
        "independent_variables = boston_pd[boston_pd.columns[0:12]]\n",
        "print(\"INDEPENDENT VARIABLES : \")\n",
        "print(independent_variables.columns)"
      ],
      "execution_count": null,
      "outputs": [
        {
          "output_type": "stream",
          "name": "stdout",
          "text": [
            "DEPENDENT VARIABLE :  Index(['HOUSEPRICE'], dtype='object')\n",
            "\n",
            "\n",
            "INDEPENDENT VARIABLES : \n",
            "Index(['CRIM', 'ZN', 'INDUS', 'CHAS', 'NOX', 'RM', 'AGE', 'DIS', 'RAD', 'TAX',\n",
            "       'PTRATIO', 'B'],\n",
            "      dtype='object')\n"
          ]
        }
      ]
    },
    {
      "cell_type": "code",
      "metadata": {
        "colab": {
          "base_uri": "https://localhost:8080/"
        },
        "id": "SrUy95nr3NOo",
        "outputId": "cf4d6d11-dc54-4d18-e303-5875b45141ee"
      },
      "source": [
        "# Add constant to the dataframe\n",
        "# In Statsmodel library, intercept is not considered. So we need to add Manually\n",
        "independent_variables = sm.add_constant(independent_variables)\n",
        "print(\"After Adding constant, Independent Variable names are\")\n",
        "print(independent_variables.columns)"
      ],
      "execution_count": null,
      "outputs": [
        {
          "output_type": "stream",
          "name": "stdout",
          "text": [
            "After Adding constant, Independent Variable names are\n",
            "Index(['const', 'CRIM', 'ZN', 'INDUS', 'CHAS', 'NOX', 'RM', 'AGE', 'DIS',\n",
            "       'RAD', 'TAX', 'PTRATIO', 'B'],\n",
            "      dtype='object')\n"
          ]
        }
      ]
    },
    {
      "cell_type": "code",
      "metadata": {
        "id": "prTVZUusqccY",
        "colab": {
          "base_uri": "https://localhost:8080/",
          "height": 709
        },
        "outputId": "58797f03-78ba-4194-e02a-50193118017f"
      },
      "source": [
        "# Base Model\n",
        "\n",
        "import statsmodels.api as sm\n",
        "from statsmodels.api import OLS\n",
        "base_model = OLS(dependent_variable, independent_variables).fit()\n",
        "base_model.summary()"
      ],
      "execution_count": null,
      "outputs": [
        {
          "output_type": "execute_result",
          "data": {
            "text/html": [
              "<table class=\"simpletable\">\n",
              "<caption>OLS Regression Results</caption>\n",
              "<tr>\n",
              "  <th>Dep. Variable:</th>       <td>HOUSEPRICE</td>    <th>  R-squared:         </th> <td>   0.684</td> \n",
              "</tr>\n",
              "<tr>\n",
              "  <th>Model:</th>                   <td>OLS</td>       <th>  Adj. R-squared:    </th> <td>   0.677</td> \n",
              "</tr>\n",
              "<tr>\n",
              "  <th>Method:</th>             <td>Least Squares</td>  <th>  F-statistic:       </th> <td>   89.01</td> \n",
              "</tr>\n",
              "<tr>\n",
              "  <th>Date:</th>             <td>Tue, 23 Nov 2021</td> <th>  Prob (F-statistic):</th> <td>4.90e-115</td>\n",
              "</tr>\n",
              "<tr>\n",
              "  <th>Time:</th>                 <td>14:19:50</td>     <th>  Log-Likelihood:    </th> <td> -1548.6</td> \n",
              "</tr>\n",
              "<tr>\n",
              "  <th>No. Observations:</th>      <td>   506</td>      <th>  AIC:               </th> <td>   3123.</td> \n",
              "</tr>\n",
              "<tr>\n",
              "  <th>Df Residuals:</th>          <td>   493</td>      <th>  BIC:               </th> <td>   3178.</td> \n",
              "</tr>\n",
              "<tr>\n",
              "  <th>Df Model:</th>              <td>    12</td>      <th>                     </th>     <td> </td>    \n",
              "</tr>\n",
              "<tr>\n",
              "  <th>Covariance Type:</th>      <td>nonrobust</td>    <th>                     </th>     <td> </td>    \n",
              "</tr>\n",
              "</table>\n",
              "<table class=\"simpletable\">\n",
              "<tr>\n",
              "     <td></td>        <th>coef</th>     <th>std err</th>      <th>t</th>      <th>P>|t|</th>  <th>[0.025</th>    <th>0.975]</th>  \n",
              "</tr>\n",
              "<tr>\n",
              "  <th>const</th>   <td>   20.6526</td> <td>    5.368</td> <td>    3.848</td> <td> 0.000</td> <td>   10.106</td> <td>   31.199</td>\n",
              "</tr>\n",
              "<tr>\n",
              "  <th>CRIM</th>    <td>   -0.1599</td> <td>    0.036</td> <td>   -4.467</td> <td> 0.000</td> <td>   -0.230</td> <td>   -0.090</td>\n",
              "</tr>\n",
              "<tr>\n",
              "  <th>ZN</th>      <td>    0.0389</td> <td>    0.015</td> <td>    2.573</td> <td> 0.010</td> <td>    0.009</td> <td>    0.069</td>\n",
              "</tr>\n",
              "<tr>\n",
              "  <th>INDUS</th>   <td>   -0.0279</td> <td>    0.068</td> <td>   -0.413</td> <td> 0.680</td> <td>   -0.161</td> <td>    0.105</td>\n",
              "</tr>\n",
              "<tr>\n",
              "  <th>CHAS</th>    <td>    3.2166</td> <td>    0.948</td> <td>    3.393</td> <td> 0.001</td> <td>    1.354</td> <td>    5.079</td>\n",
              "</tr>\n",
              "<tr>\n",
              "  <th>NOX</th>     <td>  -20.4846</td> <td>    4.201</td> <td>   -4.877</td> <td> 0.000</td> <td>  -28.738</td> <td>  -12.231</td>\n",
              "</tr>\n",
              "<tr>\n",
              "  <th>RM</th>      <td>    6.1231</td> <td>    0.389</td> <td>   15.731</td> <td> 0.000</td> <td>    5.358</td> <td>    6.888</td>\n",
              "</tr>\n",
              "<tr>\n",
              "  <th>AGE</th>     <td>   -0.0459</td> <td>    0.014</td> <td>   -3.356</td> <td> 0.001</td> <td>   -0.073</td> <td>   -0.019</td>\n",
              "</tr>\n",
              "<tr>\n",
              "  <th>DIS</th>     <td>   -1.5549</td> <td>    0.220</td> <td>   -7.077</td> <td> 0.000</td> <td>   -1.987</td> <td>   -1.123</td>\n",
              "</tr>\n",
              "<tr>\n",
              "  <th>RAD</th>     <td>    0.2816</td> <td>    0.073</td> <td>    3.852</td> <td> 0.000</td> <td>    0.138</td> <td>    0.425</td>\n",
              "</tr>\n",
              "<tr>\n",
              "  <th>TAX</th>     <td>   -0.0117</td> <td>    0.004</td> <td>   -2.832</td> <td> 0.005</td> <td>   -0.020</td> <td>   -0.004</td>\n",
              "</tr>\n",
              "<tr>\n",
              "  <th>PTRATIO</th> <td>   -1.0142</td> <td>    0.144</td> <td>   -7.040</td> <td> 0.000</td> <td>   -1.297</td> <td>   -0.731</td>\n",
              "</tr>\n",
              "<tr>\n",
              "  <th>B</th>       <td>    0.0136</td> <td>    0.003</td> <td>    4.657</td> <td> 0.000</td> <td>    0.008</td> <td>    0.019</td>\n",
              "</tr>\n",
              "</table>\n",
              "<table class=\"simpletable\">\n",
              "<tr>\n",
              "  <th>Omnibus:</th>       <td>267.269</td> <th>  Durbin-Watson:     </th> <td>   0.934</td>\n",
              "</tr>\n",
              "<tr>\n",
              "  <th>Prob(Omnibus):</th> <td> 0.000</td>  <th>  Jarque-Bera (JB):  </th> <td>2542.250</td>\n",
              "</tr>\n",
              "<tr>\n",
              "  <th>Skew:</th>          <td> 2.108</td>  <th>  Prob(JB):          </th> <td>    0.00</td>\n",
              "</tr>\n",
              "<tr>\n",
              "  <th>Kurtosis:</th>      <td>13.139</td>  <th>  Cond. No.          </th> <td>1.48e+04</td>\n",
              "</tr>\n",
              "</table><br/><br/>Warnings:<br/>[1] Standard Errors assume that the covariance matrix of the errors is correctly specified.<br/>[2] The condition number is large, 1.48e+04. This might indicate that there are<br/>strong multicollinearity or other numerical problems."
            ],
            "text/plain": [
              "<class 'statsmodels.iolib.summary.Summary'>\n",
              "\"\"\"\n",
              "                            OLS Regression Results                            \n",
              "==============================================================================\n",
              "Dep. Variable:             HOUSEPRICE   R-squared:                       0.684\n",
              "Model:                            OLS   Adj. R-squared:                  0.677\n",
              "Method:                 Least Squares   F-statistic:                     89.01\n",
              "Date:                Tue, 23 Nov 2021   Prob (F-statistic):          4.90e-115\n",
              "Time:                        14:19:50   Log-Likelihood:                -1548.6\n",
              "No. Observations:                 506   AIC:                             3123.\n",
              "Df Residuals:                     493   BIC:                             3178.\n",
              "Df Model:                          12                                         \n",
              "Covariance Type:            nonrobust                                         \n",
              "==============================================================================\n",
              "                 coef    std err          t      P>|t|      [0.025      0.975]\n",
              "------------------------------------------------------------------------------\n",
              "const         20.6526      5.368      3.848      0.000      10.106      31.199\n",
              "CRIM          -0.1599      0.036     -4.467      0.000      -0.230      -0.090\n",
              "ZN             0.0389      0.015      2.573      0.010       0.009       0.069\n",
              "INDUS         -0.0279      0.068     -0.413      0.680      -0.161       0.105\n",
              "CHAS           3.2166      0.948      3.393      0.001       1.354       5.079\n",
              "NOX          -20.4846      4.201     -4.877      0.000     -28.738     -12.231\n",
              "RM             6.1231      0.389     15.731      0.000       5.358       6.888\n",
              "AGE           -0.0459      0.014     -3.356      0.001      -0.073      -0.019\n",
              "DIS           -1.5549      0.220     -7.077      0.000      -1.987      -1.123\n",
              "RAD            0.2816      0.073      3.852      0.000       0.138       0.425\n",
              "TAX           -0.0117      0.004     -2.832      0.005      -0.020      -0.004\n",
              "PTRATIO       -1.0142      0.144     -7.040      0.000      -1.297      -0.731\n",
              "B              0.0136      0.003      4.657      0.000       0.008       0.019\n",
              "==============================================================================\n",
              "Omnibus:                      267.269   Durbin-Watson:                   0.934\n",
              "Prob(Omnibus):                  0.000   Jarque-Bera (JB):             2542.250\n",
              "Skew:                           2.108   Prob(JB):                         0.00\n",
              "Kurtosis:                      13.139   Cond. No.                     1.48e+04\n",
              "==============================================================================\n",
              "\n",
              "Warnings:\n",
              "[1] Standard Errors assume that the covariance matrix of the errors is correctly specified.\n",
              "[2] The condition number is large, 1.48e+04. This might indicate that there are\n",
              "strong multicollinearity or other numerical problems.\n",
              "\"\"\""
            ]
          },
          "metadata": {},
          "execution_count": 6
        }
      ]
    },
    {
      "cell_type": "markdown",
      "metadata": {
        "id": "ZPFz19ZaK0Cp"
      },
      "source": [
        "**OUTPUT EXPLAINATION**\n",
        "\n",
        "**Omnibus/Prob(Omnibus)**\n",
        "- Omnibus describes the normalcy of the distribution of our residuals using skew and kurtosis as measurements. A 0 would indicate perfect normalcy. \n",
        "- Prob(Omnibus) is a statistical test measuring the probability the residuals are normally distributed. 1 would indicate perfectly normal distribution. \n",
        "- Skew is a measurement of symmetry in our data, with 0 being perfect symmetry. \n",
        "- Kurtosis measures the peakiness of our data, or its concentration around 0 in a normal curve. Higher kurtosis implies fewer outliers.\n",
        "- The Prob(Omnibus) indicates the probability that the residuals are normally distributed. \n",
        "- We hope to see something close to 1 here. \n",
        "- In this case Omnibus = 267 (way higher than 1) and Prob(Omnibus) = 0 which (normally = 1)is low. So the data is not normal, not ideal. \n",
        "\n",
        "**Skew -** \n",
        "- Measure of data symmetry.\n",
        "- We want to see something close to zero, indicating the residual distribution is normal. \n",
        "- Note that this value also drives the Omnibus\n",
        "- In this case, Skewness = 2.1, way higher than 0 so error/residual is skewwed\n",
        "\n",
        "**Kurtosis -** \n",
        "- Measure of \"peakiness\", or curvature of the data. \n",
        "- Kurtosis of the normal distribution is 3.0.\n",
        "- In this case, Kurtosis = 13.14 which is way too higher\n",
        "\n",
        "**Durbin-Watson -**\n",
        "- Durbin-Watson is a measurement of homoscedasticity, or an even distribution of errors throughout our data. - Heteroscedasticity would imply an uneven distribution, for example as the data point grows higher the relative error grows higher. Ideal homoscedasticity will lie between 1 and 2. \n",
        "- In this case, Durbin-Watson = 0.78 is close, but within limits.\n",
        "\n",
        "**Jarque-Bera (JB)/Prob(JB) -** \n",
        "- Jarque-Bera (JB) and Prob(JB) are alternate methods of measuring the same value as Omnibus and Prob(Omnibus) using skewness and kurtosis. We use these values to confirm each other\n",
        "- It is like the Omnibus test in that it tests both skew and kurtosis. \n",
        "- It is also performed for the distribution analysis of the regression errors.\n",
        "- A large value of JB test indicates that the errors are not normally distributed.\n",
        "- In this case, JB = 2542 which is way too higher so error are not normally distributed\n",
        "\n",
        "**Condition Number -**\n",
        "- Condition number is a measurement of the sensitivity of our model as compared to the size of changes in the data it is analyzing. \n",
        "- Multicollinearity is strongly implied by a high condition number. \n",
        "- Multicollinearity a term to describe two or more independent variables that are strongly related to each other and are falsely affecting our predicted variable by redundancy.\n",
        "- When we have multicollinearity, we can expect much higher fluctuations to small changes in the data hence, we hope to see a relatively small number, something below 30. \n",
        "- In this case, Condition Number = well above 30, so multicollinearity present\n",
        "\n",
        "**R Square and Adjusted R Square -**\n",
        "- R Squared is the measurement of how much of the independent variable is explained by changed in our dependent variable\n",
        "- In percentage terms, 0.68 would mean our model explains 68% of the dependent variable\n",
        "- Adjusted R-squared is important for analyzing multiple dependent variables’ efficacy on the model. \n",
        "- Linear regression has the quality that your model’s R-squared value will never go down with additional variables, only equal or higher. \n",
        "- Therefore, your model could look more accurate with multiple variables even if they are poorly contributing. \n",
        "- The adjusted R-squared penalizes the R-squared formula based on the number of variables, therefore a lower adjusted score may be telling you some variables are not contributing to your model’s R-squared properly.\n",
        "- Both measures model performance and Possible values range from 0.0 to 1.0. \n",
        "- Higher the Adjusted R Square, better is the model\n",
        "\n",
        "**F Statistics and Prob(F Statistics) -**\n",
        "- This test for overall significance has the following two hypothesis:\n",
        "- **Null hypothesis :** Model with no independent variables fits the data as well as your model.\n",
        "- **Alternative hypothesis :** Model fits the data better than the intercept-only model.\n",
        "- In this case, P(F-Statistics) = less than 0.05 suggests Independent variables are important\n",
        "\n",
        "**P Value -** \n",
        "- If the p-value for a variable is less than your significance level (0.05), sample data provide enough evidence to reject the null hypothesis for the entire population.\n",
        "- Null hypothesis that the variable has no correlation with the dependent variable. \n",
        "- If No correlation, no association between the changes in the independent & dependent variable.\n",
        "- In this case, Remove all variables with P values greater than 0.05\n",
        "- P>|t| uses the t statistic to produce the p value, a measurement of how likely your coefficient is measured through our model by chance. \n",
        "- The p value of 0.68 for Wealth is saying there is a 68% chance the Indus variable has no affect on the dependent variable, Houseprice and our results are produced by chance. \n",
        "- A common alpha is 0.05, which few of our variables pass in this instance.\n",
        "\n",
        "**NOTE :** Log-Likelihood, AIC and BIC are for LOGISTIC REGRESSION MODEL"
      ]
    },
    {
      "cell_type": "code",
      "metadata": {
        "id": "AgkzKtyUUSlj",
        "colab": {
          "base_uri": "https://localhost:8080/"
        },
        "outputId": "f3048d58-61af-4c16-9334-f18a3b72b8b2"
      },
      "source": [
        "# Model Properties\n",
        "\n",
        "# Normality of the residuals\n",
        "# Jarque-Bera test:\n",
        "name = ['Jarque-Bera', 'Chi^2 two-tail prob.', 'Skew', 'Kurtosis']\n",
        "test = sms.jarque_bera(base_model.resid)\n",
        "base_model_properties_1 = lzip(name, test)\n",
        "print(\"BASE MODEL PARAMETERS\")\n",
        "print(\"\\n\")\n",
        "print(\"Normality of the residuals\")\n",
        "print(\"Jarque-Bera test : \")\n",
        "print(\"JB, ideal is close to 0\")\n",
        "print(\"Probability(JB), less than 0.05\")\n",
        "print(\"Skewness, ideal is -1 to 1\")\n",
        "print(\"Kurtosis, ideal value is 3\")\n",
        "print(pd.DataFrame(base_model_properties_1,columns = ['Test','Values']).round(2))\n",
        "\n",
        "# Omni test:\n",
        "print(\"\\n\")\n",
        "print(\"Normality of the residuals (also)\")\n",
        "print(\"Omni Test : \")\n",
        "print(\"Omni, ideal is close to 0\")\n",
        "print(\"Probability(Omni), less than 0.05\")\n",
        "name = ['Chi^2', 'Two-tail probability']\n",
        "test = sms.omni_normtest(base_model.resid)\n",
        "print(pd.DataFrame(lzip(name, test),columns = ['Test','Values']).round(2))\n",
        "\n",
        "# Multicollinearity\n",
        "print(\"\\n\")\n",
        "print(\"Multicollinearity\")\n",
        "print(\"Ideal Condition Number will be less than 30\")\n",
        "print(\"Condition number:\",np.linalg.cond(base_model.model.exog).round(2))\n",
        "\n",
        "# Adjusted R Square\n",
        "print(\"\\n\")\n",
        "print(\"Model Performance\")\n",
        "print(\"Adjusted R Square, ideal is close to 1\")\n",
        "print(\"Adjusted R Square : \",base_model.rsquared_adj.round(2))\n",
        "\n",
        "# F Statistics\n",
        "print(\"\\n\")\n",
        "print(\"Significance of Independent Variables\")\n",
        "print(\"Probability(F Stat), less than 0.05 suggests independent variables are important\")\n",
        "print(\"F Statistics : \",base_model.fvalue.round(2))\n",
        "print(\"Probability of F Statistics : \",base_model.f_pvalue.round(2))\n",
        "\n",
        "# Durbin Watson Test\n",
        "print(\"\\n\")\n",
        "print(\"Homoscedasticity of Error\")\n",
        "print(\"Durbin Watson, ideal is between 1 to 2\")\n",
        "print(\"Durbin Watson Value : 0.78\")"
      ],
      "execution_count": null,
      "outputs": [
        {
          "output_type": "stream",
          "text": [
            "BASE MODEL PARAMETERS\n",
            "\n",
            "\n",
            "Normality of the residuals\n",
            "Jarque-Bera test : \n",
            "JB, ideal is close to 0\n",
            "Probability(JB), less than 0.05\n",
            "Skewness, ideal is -1 to 1\n",
            "Kurtosis, ideal value is 3\n",
            "                   Test   Values\n",
            "0           Jarque-Bera  2542.25\n",
            "1  Chi^2 two-tail prob.     0.00\n",
            "2                  Skew     2.11\n",
            "3              Kurtosis    13.14\n",
            "\n",
            "\n",
            "Normality of the residuals (also)\n",
            "Omni Test : \n",
            "Omni, ideal is close to 0\n",
            "Probability(Omni), less than 0.05\n",
            "                   Test  Values\n",
            "0                 Chi^2  267.27\n",
            "1  Two-tail probability    0.00\n",
            "\n",
            "\n",
            "Multicollinearity\n",
            "Ideal Condition Number will be less than 30\n",
            "Condition number: 14793.16\n",
            "\n",
            "\n",
            "Model Performance\n",
            "Adjusted R Square, ideal is close to 1\n",
            "Adjusted R Square :  0.68\n",
            "\n",
            "\n",
            "Significance of Independent Variables\n",
            "Probability(F Stat), less than 0.05 suggests independent variables are important\n",
            "F Statistics :  89.01\n",
            "Probability of F Statistics :  0.0\n",
            "\n",
            "\n",
            "Homoscedasticity of Error\n",
            "Durbin Watson, ideal is between 1 to 2\n",
            "Durbin Watson Value : 0.78\n"
          ],
          "name": "stdout"
        }
      ]
    },
    {
      "cell_type": "code",
      "metadata": {
        "id": "_7l05MKW_mR6",
        "colab": {
          "base_uri": "https://localhost:8080/"
        },
        "outputId": "a652f80b-b8e0-46b6-fad1-2e89f1a37d48"
      },
      "source": [
        "# Let test the Base Model\n",
        "\n",
        "# Dividing Data into training and test set\n",
        "from sklearn.model_selection import train_test_split \n",
        "data_train, data_test, house_price_train, house_price_test = train_test_split(independent_variables,dependent_variable,train_size = 0.7,random_state = 21)\n",
        "print(\"Training Data Shape :\", data_train.shape)\n",
        "print(\"Training House Price Shape :\", house_price_train.shape)\n",
        "print(\"Test Data Shape :\",data_test.shape)\n",
        "print(\"Test House Price Shape :\",house_price_test.shape)"
      ],
      "execution_count": null,
      "outputs": [
        {
          "output_type": "stream",
          "text": [
            "Training Data Shape : (354, 13)\n",
            "Training House Price Shape : (354, 1)\n",
            "Test Data Shape : (152, 13)\n",
            "Test House Price Shape : (152, 1)\n"
          ],
          "name": "stdout"
        }
      ]
    },
    {
      "cell_type": "code",
      "metadata": {
        "id": "zpi0PRoS_0LZ",
        "colab": {
          "base_uri": "https://localhost:8080/",
          "height": 709
        },
        "outputId": "228a3fd5-ef28-47fc-ba32-1eeab0ba7313"
      },
      "source": [
        "# Base Model\n",
        "Model_1 = OLS(house_price_train,data_train).fit()\n",
        "Model_1.summary()"
      ],
      "execution_count": null,
      "outputs": [
        {
          "output_type": "execute_result",
          "data": {
            "text/html": [
              "<table class=\"simpletable\">\n",
              "<caption>OLS Regression Results</caption>\n",
              "<tr>\n",
              "  <th>Dep. Variable:</th>       <td>HOUSEPRICE</td>    <th>  R-squared:         </th> <td>   0.691</td>\n",
              "</tr>\n",
              "<tr>\n",
              "  <th>Model:</th>                   <td>OLS</td>       <th>  Adj. R-squared:    </th> <td>   0.680</td>\n",
              "</tr>\n",
              "<tr>\n",
              "  <th>Method:</th>             <td>Least Squares</td>  <th>  F-statistic:       </th> <td>   63.54</td>\n",
              "</tr>\n",
              "<tr>\n",
              "  <th>Date:</th>             <td>Tue, 26 Jan 2021</td> <th>  Prob (F-statistic):</th> <td>2.32e-79</td>\n",
              "</tr>\n",
              "<tr>\n",
              "  <th>Time:</th>                 <td>13:35:59</td>     <th>  Log-Likelihood:    </th> <td> -1069.2</td>\n",
              "</tr>\n",
              "<tr>\n",
              "  <th>No. Observations:</th>      <td>   354</td>      <th>  AIC:               </th> <td>   2164.</td>\n",
              "</tr>\n",
              "<tr>\n",
              "  <th>Df Residuals:</th>          <td>   341</td>      <th>  BIC:               </th> <td>   2215.</td>\n",
              "</tr>\n",
              "<tr>\n",
              "  <th>Df Model:</th>              <td>    12</td>      <th>                     </th>     <td> </td>   \n",
              "</tr>\n",
              "<tr>\n",
              "  <th>Covariance Type:</th>      <td>nonrobust</td>    <th>                     </th>     <td> </td>   \n",
              "</tr>\n",
              "</table>\n",
              "<table class=\"simpletable\">\n",
              "<tr>\n",
              "     <td></td>        <th>coef</th>     <th>std err</th>      <th>t</th>      <th>P>|t|</th>  <th>[0.025</th>    <th>0.975]</th>  \n",
              "</tr>\n",
              "<tr>\n",
              "  <th>const</th>   <td>   25.7285</td> <td>    6.186</td> <td>    4.159</td> <td> 0.000</td> <td>   13.562</td> <td>   37.895</td>\n",
              "</tr>\n",
              "<tr>\n",
              "  <th>CRIM</th>    <td>   -0.2415</td> <td>    0.055</td> <td>   -4.364</td> <td> 0.000</td> <td>   -0.350</td> <td>   -0.133</td>\n",
              "</tr>\n",
              "<tr>\n",
              "  <th>ZN</th>      <td>    0.0495</td> <td>    0.018</td> <td>    2.676</td> <td> 0.008</td> <td>    0.013</td> <td>    0.086</td>\n",
              "</tr>\n",
              "<tr>\n",
              "  <th>INDUS</th>   <td>   -0.0334</td> <td>    0.075</td> <td>   -0.442</td> <td> 0.658</td> <td>   -0.182</td> <td>    0.115</td>\n",
              "</tr>\n",
              "<tr>\n",
              "  <th>CHAS</th>    <td>    2.6172</td> <td>    1.052</td> <td>    2.488</td> <td> 0.013</td> <td>    0.548</td> <td>    4.686</td>\n",
              "</tr>\n",
              "<tr>\n",
              "  <th>NOX</th>     <td>  -20.1834</td> <td>    4.897</td> <td>   -4.121</td> <td> 0.000</td> <td>  -29.816</td> <td>  -10.550</td>\n",
              "</tr>\n",
              "<tr>\n",
              "  <th>RM</th>      <td>    5.3255</td> <td>    0.443</td> <td>   12.028</td> <td> 0.000</td> <td>    4.455</td> <td>    6.196</td>\n",
              "</tr>\n",
              "<tr>\n",
              "  <th>AGE</th>     <td>   -0.0414</td> <td>    0.016</td> <td>   -2.615</td> <td> 0.009</td> <td>   -0.073</td> <td>   -0.010</td>\n",
              "</tr>\n",
              "<tr>\n",
              "  <th>DIS</th>     <td>   -1.5677</td> <td>    0.252</td> <td>   -6.222</td> <td> 0.000</td> <td>   -2.063</td> <td>   -1.072</td>\n",
              "</tr>\n",
              "<tr>\n",
              "  <th>RAD</th>     <td>    0.3606</td> <td>    0.085</td> <td>    4.229</td> <td> 0.000</td> <td>    0.193</td> <td>    0.528</td>\n",
              "</tr>\n",
              "<tr>\n",
              "  <th>TAX</th>     <td>   -0.0131</td> <td>    0.005</td> <td>   -2.837</td> <td> 0.005</td> <td>   -0.022</td> <td>   -0.004</td>\n",
              "</tr>\n",
              "<tr>\n",
              "  <th>PTRATIO</th> <td>   -1.1124</td> <td>    0.173</td> <td>   -6.418</td> <td> 0.000</td> <td>   -1.453</td> <td>   -0.772</td>\n",
              "</tr>\n",
              "<tr>\n",
              "  <th>B</th>       <td>    0.0175</td> <td>    0.004</td> <td>    4.936</td> <td> 0.000</td> <td>    0.011</td> <td>    0.025</td>\n",
              "</tr>\n",
              "</table>\n",
              "<table class=\"simpletable\">\n",
              "<tr>\n",
              "  <th>Omnibus:</th>       <td>186.735</td> <th>  Durbin-Watson:     </th> <td>   2.016</td>\n",
              "</tr>\n",
              "<tr>\n",
              "  <th>Prob(Omnibus):</th> <td> 0.000</td>  <th>  Jarque-Bera (JB):  </th> <td>1626.044</td>\n",
              "</tr>\n",
              "<tr>\n",
              "  <th>Skew:</th>          <td> 2.039</td>  <th>  Prob(JB):          </th> <td>    0.00</td>\n",
              "</tr>\n",
              "<tr>\n",
              "  <th>Kurtosis:</th>      <td>12.675</td>  <th>  Cond. No.          </th> <td>1.49e+04</td>\n",
              "</tr>\n",
              "</table><br/><br/>Warnings:<br/>[1] Standard Errors assume that the covariance matrix of the errors is correctly specified.<br/>[2] The condition number is large, 1.49e+04. This might indicate that there are<br/>strong multicollinearity or other numerical problems."
            ],
            "text/plain": [
              "<class 'statsmodels.iolib.summary.Summary'>\n",
              "\"\"\"\n",
              "                            OLS Regression Results                            \n",
              "==============================================================================\n",
              "Dep. Variable:             HOUSEPRICE   R-squared:                       0.691\n",
              "Model:                            OLS   Adj. R-squared:                  0.680\n",
              "Method:                 Least Squares   F-statistic:                     63.54\n",
              "Date:                Tue, 26 Jan 2021   Prob (F-statistic):           2.32e-79\n",
              "Time:                        13:35:59   Log-Likelihood:                -1069.2\n",
              "No. Observations:                 354   AIC:                             2164.\n",
              "Df Residuals:                     341   BIC:                             2215.\n",
              "Df Model:                          12                                         \n",
              "Covariance Type:            nonrobust                                         \n",
              "==============================================================================\n",
              "                 coef    std err          t      P>|t|      [0.025      0.975]\n",
              "------------------------------------------------------------------------------\n",
              "const         25.7285      6.186      4.159      0.000      13.562      37.895\n",
              "CRIM          -0.2415      0.055     -4.364      0.000      -0.350      -0.133\n",
              "ZN             0.0495      0.018      2.676      0.008       0.013       0.086\n",
              "INDUS         -0.0334      0.075     -0.442      0.658      -0.182       0.115\n",
              "CHAS           2.6172      1.052      2.488      0.013       0.548       4.686\n",
              "NOX          -20.1834      4.897     -4.121      0.000     -29.816     -10.550\n",
              "RM             5.3255      0.443     12.028      0.000       4.455       6.196\n",
              "AGE           -0.0414      0.016     -2.615      0.009      -0.073      -0.010\n",
              "DIS           -1.5677      0.252     -6.222      0.000      -2.063      -1.072\n",
              "RAD            0.3606      0.085      4.229      0.000       0.193       0.528\n",
              "TAX           -0.0131      0.005     -2.837      0.005      -0.022      -0.004\n",
              "PTRATIO       -1.1124      0.173     -6.418      0.000      -1.453      -0.772\n",
              "B              0.0175      0.004      4.936      0.000       0.011       0.025\n",
              "==============================================================================\n",
              "Omnibus:                      186.735   Durbin-Watson:                   2.016\n",
              "Prob(Omnibus):                  0.000   Jarque-Bera (JB):             1626.044\n",
              "Skew:                           2.039   Prob(JB):                         0.00\n",
              "Kurtosis:                      12.675   Cond. No.                     1.49e+04\n",
              "==============================================================================\n",
              "\n",
              "Warnings:\n",
              "[1] Standard Errors assume that the covariance matrix of the errors is correctly specified.\n",
              "[2] The condition number is large, 1.49e+04. This might indicate that there are\n",
              "strong multicollinearity or other numerical problems.\n",
              "\"\"\""
            ]
          },
          "metadata": {
            "tags": []
          },
          "execution_count": 10
        }
      ]
    },
    {
      "cell_type": "code",
      "metadata": {
        "id": "vhTxPiBCmOtv",
        "colab": {
          "base_uri": "https://localhost:8080/"
        },
        "outputId": "c050694d-6958-46bb-bf00-ef82b64ead76"
      },
      "source": [
        "# Model Properties\n",
        "\n",
        "# Normality of the residuals\n",
        "# Jarque-Bera test:\n",
        "name = ['Jarque-Bera', 'Chi^2 two-tail prob.', 'Skew', 'Kurtosis']\n",
        "test = sms.jarque_bera(Model_1.resid)\n",
        "model_properties_1 = lzip(name, test)\n",
        "print(\"MODEL 1 PARAMETERS\")\n",
        "print(\"\\n\")\n",
        "print(\"Normality of the residuals\")\n",
        "print(\"Jarque-Bera test : \")\n",
        "print(\"JB, ideal is close to 0\")\n",
        "print(\"Probability(JB), less than 0.05\")\n",
        "print(\"Skewness, ideal is -1 to 1\")\n",
        "print(\"Kurtosis, ideal value is 3\")\n",
        "print(pd.DataFrame(model_properties_1,columns = ['Test','Values']).round(2))\n",
        "\n",
        "# Omni test:\n",
        "print(\"Omni Test : \")\n",
        "print(\"Omni, ideal is close to 0\")\n",
        "print(\"Probability(Omni), less than 0.05\")\n",
        "name = ['Chi^2', 'Two-tail probability']\n",
        "test = sms.omni_normtest(Model_1.resid)\n",
        "print(pd.DataFrame(lzip(name, test),columns = ['Test','Values']).round(2))\n",
        "\n",
        "# Multicollinearity\n",
        "print(\"\\n\")\n",
        "print(\"Multicollinearity\")\n",
        "print(\"Ideal Condition Number will be less than 30\")\n",
        "print(\"Condition number:\",np.linalg.cond(Model_1.model.exog).round(2))\n",
        "\n",
        "# Adjusted R Square\n",
        "print(\"\\n\")\n",
        "print(\"Model Performance\")\n",
        "print(\"Adjusted R Square, ideal is close to 1\")\n",
        "print(\"Adjusted R Square : \",Model_1.rsquared_adj.round(2))\n",
        "\n",
        "# F Statistics\n",
        "print(\"\\n\")\n",
        "print(\"Significance of Independent Variables\")\n",
        "print(\"Probability(F Stat), less than 0.05 suggests independent variables are important\")\n",
        "print(\"F Statistics : \",base_model.fvalue.round(2))\n",
        "print(\"Probability of F Statistics : \",Model_1.f_pvalue.round(2))\n",
        "\n",
        "# Durbin Watson Test\n",
        "print(\"\\n\")\n",
        "print(\"Homoscedasticity of Error\")\n",
        "print(\"Durbin Watson, ideal is between 1 to 2\")\n",
        "print(\"Durbin Watson Value : 1.99\")"
      ],
      "execution_count": null,
      "outputs": [
        {
          "output_type": "stream",
          "text": [
            "MODEL 1 PARAMETERS\n",
            "\n",
            "\n",
            "Normality of the residuals\n",
            "Jarque-Bera test : \n",
            "JB, ideal is close to 0\n",
            "Probability(JB), less than 0.05\n",
            "Skewness, ideal is -1 to 1\n",
            "Kurtosis, ideal value is 3\n",
            "                   Test   Values\n",
            "0           Jarque-Bera  1626.04\n",
            "1  Chi^2 two-tail prob.     0.00\n",
            "2                  Skew     2.04\n",
            "3              Kurtosis    12.68\n",
            "Omni Test : \n",
            "Omni, ideal is close to 0\n",
            "Probability(Omni), less than 0.05\n",
            "                   Test  Values\n",
            "0                 Chi^2  186.74\n",
            "1  Two-tail probability    0.00\n",
            "\n",
            "\n",
            "Multicollinearity\n",
            "Ideal Condition Number will be less than 30\n",
            "Condition number: 14949.83\n",
            "\n",
            "\n",
            "Model Performance\n",
            "Adjusted R Square, ideal is close to 1\n",
            "Adjusted R Square :  0.68\n",
            "\n",
            "\n",
            "Significance of Independent Variables\n",
            "Probability(F Stat), less than 0.05 suggests independent variables are important\n",
            "F Statistics :  89.01\n",
            "Probability of F Statistics :  0.0\n",
            "\n",
            "\n",
            "Homoscedasticity of Error\n",
            "Durbin Watson, ideal is between 1 to 2\n",
            "Durbin Watson Value : 1.99\n"
          ],
          "name": "stdout"
        }
      ]
    },
    {
      "cell_type": "code",
      "metadata": {
        "id": "xnIM_5IKBoOm",
        "colab": {
          "base_uri": "https://localhost:8080/"
        },
        "outputId": "f946a06b-3fcf-4ba4-eb0a-8a9a50402276"
      },
      "source": [
        "# Base Model Test and Metrics\n",
        "\n",
        "from sklearn import metrics\n",
        "Prediction_1 = Model_1.predict(data_test)\n",
        "print(\"Mean Absolute Error :\",metrics.mean_absolute_error(house_price_test,Prediction_1).round(2))\n",
        "print(\"Mean Squared Error :\",metrics.mean_squared_error(house_price_test,Prediction_1).round(2))\n",
        "print(\"Root Mean Squared Error :\",metrics.mean_squared_error(house_price_test,Prediction_1).round(2))\n",
        "\n",
        "def mape(actual, pred): \n",
        "    actual, pred = np.array(actual), np.array(pred)\n",
        "    return np.mean(np.abs((actual - pred) / actual)) * 100\n",
        "\n",
        "print(\"Mean Absolute Percentage Error :\",mape(house_price_test,Prediction_1).round(2))\n",
        "\n",
        "# MAE is Absolute difference between the Model Predictions & True(Actual) values\n",
        "# MSE is Square difference between Model Predictions & True values\n",
        "# MSE affected by Outliers, because we Square the distance\n",
        "# RMSE, square root(MSE) therefore cancelling the affect the square \n",
        "# MAE value can range from 0 to infinity, difficult to interpret\n",
        "# MAPE is equivalent to MAE but provide the error in a percentage(0-100)\n",
        "\n",
        "# MAPE = 52,average difference between predicted & actual is 52% which is very high"
      ],
      "execution_count": null,
      "outputs": [
        {
          "output_type": "stream",
          "text": [
            "Mean Absolute Error : 4.01\n",
            "Mean Squared Error : 33.66\n",
            "Root Mean Squared Error : 33.66\n",
            "Mean Absolute Percentage Error : 52.39\n"
          ],
          "name": "stdout"
        }
      ]
    },
    {
      "cell_type": "code",
      "metadata": {
        "id": "R6DPYZNwJvSO",
        "colab": {
          "base_uri": "https://localhost:8080/",
          "height": 668
        },
        "outputId": "39ec8dc8-7826-4a8b-ca2f-34afd8dbb015"
      },
      "source": [
        "# Model 2, first Data Cleaning\n",
        "\n",
        "# Correlation \n",
        "# Increasing the size of the plot\n",
        "import matplotlib.pyplot as plt\n",
        "\n",
        "fig, ax = plt.subplots(figsize=(11,11)) # Sample figsize in inches, change the number accordingly\n",
        "sns.heatmap(independent_variables.corr(method = 'spearman'), annot= True, cmap = 'Blues',ax = ax)\n",
        "\n",
        "# Inference : \n",
        "# Lots of High Correlation Values"
      ],
      "execution_count": null,
      "outputs": [
        {
          "output_type": "execute_result",
          "data": {
            "text/plain": [
              "<matplotlib.axes._subplots.AxesSubplot at 0x7f3e43dbe080>"
            ]
          },
          "metadata": {
            "tags": []
          },
          "execution_count": 13
        },
        {
          "output_type": "display_data",
          "data": {
            "image/png": "[encoded data removed]",
            "text/plain": [
              "<Figure size 792x792 with 2 Axes>"
            ]
          },
          "metadata": {
            "tags": [],
            "needs_background": "light"
          }
        }
      ]
    },
    {
      "cell_type": "code",
      "metadata": {
        "id": "n-jBkgOTjtla",
        "colab": {
          "base_uri": "https://localhost:8080/",
          "height": 452
        },
        "outputId": "ce491975-6677-4a5c-b230-541f4c1e1ae1"
      },
      "source": [
        "# Filtering Highly Positive or Negative Correlated Values\n",
        "\n",
        "# Create correlation matrix\n",
        "corr_matrix = independent_variables.corr().round(2)\n",
        "corr_matrix"
      ],
      "execution_count": null,
      "outputs": [
        {
          "output_type": "execute_result",
          "data": {
            "text/html": [
              "<div>\n",
              "<style scoped>\n",
              "    .dataframe tbody tr th:only-of-type {\n",
              "        vertical-align: middle;\n",
              "    }\n",
              "\n",
              "    .dataframe tbody tr th {\n",
              "        vertical-align: top;\n",
              "    }\n",
              "\n",
              "    .dataframe thead th {\n",
              "        text-align: right;\n",
              "    }\n",
              "</style>\n",
              "<table border=\"1\" class=\"dataframe\">\n",
              "  <thead>\n",
              "    <tr style=\"text-align: right;\">\n",
              "      <th></th>\n",
              "      <th>const</th>\n",
              "      <th>CRIM</th>\n",
              "      <th>ZN</th>\n",
              "      <th>INDUS</th>\n",
              "      <th>CHAS</th>\n",
              "      <th>NOX</th>\n",
              "      <th>RM</th>\n",
              "      <th>AGE</th>\n",
              "      <th>DIS</th>\n",
              "      <th>RAD</th>\n",
              "      <th>TAX</th>\n",
              "      <th>PTRATIO</th>\n",
              "      <th>B</th>\n",
              "    </tr>\n",
              "  </thead>\n",
              "  <tbody>\n",
              "    <tr>\n",
              "      <th>const</th>\n",
              "      <td>NaN</td>\n",
              "      <td>NaN</td>\n",
              "      <td>NaN</td>\n",
              "      <td>NaN</td>\n",
              "      <td>NaN</td>\n",
              "      <td>NaN</td>\n",
              "      <td>NaN</td>\n",
              "      <td>NaN</td>\n",
              "      <td>NaN</td>\n",
              "      <td>NaN</td>\n",
              "      <td>NaN</td>\n",
              "      <td>NaN</td>\n",
              "      <td>NaN</td>\n",
              "    </tr>\n",
              "    <tr>\n",
              "      <th>CRIM</th>\n",
              "      <td>NaN</td>\n",
              "      <td>1.00</td>\n",
              "      <td>-0.20</td>\n",
              "      <td>0.41</td>\n",
              "      <td>-0.06</td>\n",
              "      <td>0.42</td>\n",
              "      <td>-0.22</td>\n",
              "      <td>0.35</td>\n",
              "      <td>-0.38</td>\n",
              "      <td>0.63</td>\n",
              "      <td>0.58</td>\n",
              "      <td>0.29</td>\n",
              "      <td>-0.39</td>\n",
              "    </tr>\n",
              "    <tr>\n",
              "      <th>ZN</th>\n",
              "      <td>NaN</td>\n",
              "      <td>-0.20</td>\n",
              "      <td>1.00</td>\n",
              "      <td>-0.53</td>\n",
              "      <td>-0.04</td>\n",
              "      <td>-0.52</td>\n",
              "      <td>0.31</td>\n",
              "      <td>-0.57</td>\n",
              "      <td>0.66</td>\n",
              "      <td>-0.31</td>\n",
              "      <td>-0.31</td>\n",
              "      <td>-0.39</td>\n",
              "      <td>0.18</td>\n",
              "    </tr>\n",
              "    <tr>\n",
              "      <th>INDUS</th>\n",
              "      <td>NaN</td>\n",
              "      <td>0.41</td>\n",
              "      <td>-0.53</td>\n",
              "      <td>1.00</td>\n",
              "      <td>0.06</td>\n",
              "      <td>0.76</td>\n",
              "      <td>-0.39</td>\n",
              "      <td>0.64</td>\n",
              "      <td>-0.71</td>\n",
              "      <td>0.60</td>\n",
              "      <td>0.72</td>\n",
              "      <td>0.38</td>\n",
              "      <td>-0.36</td>\n",
              "    </tr>\n",
              "    <tr>\n",
              "      <th>CHAS</th>\n",
              "      <td>NaN</td>\n",
              "      <td>-0.06</td>\n",
              "      <td>-0.04</td>\n",
              "      <td>0.06</td>\n",
              "      <td>1.00</td>\n",
              "      <td>0.09</td>\n",
              "      <td>0.09</td>\n",
              "      <td>0.09</td>\n",
              "      <td>-0.10</td>\n",
              "      <td>-0.01</td>\n",
              "      <td>-0.04</td>\n",
              "      <td>-0.12</td>\n",
              "      <td>0.05</td>\n",
              "    </tr>\n",
              "    <tr>\n",
              "      <th>NOX</th>\n",
              "      <td>NaN</td>\n",
              "      <td>0.42</td>\n",
              "      <td>-0.52</td>\n",
              "      <td>0.76</td>\n",
              "      <td>0.09</td>\n",
              "      <td>1.00</td>\n",
              "      <td>-0.30</td>\n",
              "      <td>0.73</td>\n",
              "      <td>-0.77</td>\n",
              "      <td>0.61</td>\n",
              "      <td>0.67</td>\n",
              "      <td>0.19</td>\n",
              "      <td>-0.38</td>\n",
              "    </tr>\n",
              "    <tr>\n",
              "      <th>RM</th>\n",
              "      <td>NaN</td>\n",
              "      <td>-0.22</td>\n",
              "      <td>0.31</td>\n",
              "      <td>-0.39</td>\n",
              "      <td>0.09</td>\n",
              "      <td>-0.30</td>\n",
              "      <td>1.00</td>\n",
              "      <td>-0.24</td>\n",
              "      <td>0.21</td>\n",
              "      <td>-0.21</td>\n",
              "      <td>-0.29</td>\n",
              "      <td>-0.36</td>\n",
              "      <td>0.13</td>\n",
              "    </tr>\n",
              "    <tr>\n",
              "      <th>AGE</th>\n",
              "      <td>NaN</td>\n",
              "      <td>0.35</td>\n",
              "      <td>-0.57</td>\n",
              "      <td>0.64</td>\n",
              "      <td>0.09</td>\n",
              "      <td>0.73</td>\n",
              "      <td>-0.24</td>\n",
              "      <td>1.00</td>\n",
              "      <td>-0.75</td>\n",
              "      <td>0.46</td>\n",
              "      <td>0.51</td>\n",
              "      <td>0.26</td>\n",
              "      <td>-0.27</td>\n",
              "    </tr>\n",
              "    <tr>\n",
              "      <th>DIS</th>\n",
              "      <td>NaN</td>\n",
              "      <td>-0.38</td>\n",
              "      <td>0.66</td>\n",
              "      <td>-0.71</td>\n",
              "      <td>-0.10</td>\n",
              "      <td>-0.77</td>\n",
              "      <td>0.21</td>\n",
              "      <td>-0.75</td>\n",
              "      <td>1.00</td>\n",
              "      <td>-0.49</td>\n",
              "      <td>-0.53</td>\n",
              "      <td>-0.23</td>\n",
              "      <td>0.29</td>\n",
              "    </tr>\n",
              "    <tr>\n",
              "      <th>RAD</th>\n",
              "      <td>NaN</td>\n",
              "      <td>0.63</td>\n",
              "      <td>-0.31</td>\n",
              "      <td>0.60</td>\n",
              "      <td>-0.01</td>\n",
              "      <td>0.61</td>\n",
              "      <td>-0.21</td>\n",
              "      <td>0.46</td>\n",
              "      <td>-0.49</td>\n",
              "      <td>1.00</td>\n",
              "      <td>0.91</td>\n",
              "      <td>0.46</td>\n",
              "      <td>-0.44</td>\n",
              "    </tr>\n",
              "    <tr>\n",
              "      <th>TAX</th>\n",
              "      <td>NaN</td>\n",
              "      <td>0.58</td>\n",
              "      <td>-0.31</td>\n",
              "      <td>0.72</td>\n",
              "      <td>-0.04</td>\n",
              "      <td>0.67</td>\n",
              "      <td>-0.29</td>\n",
              "      <td>0.51</td>\n",
              "      <td>-0.53</td>\n",
              "      <td>0.91</td>\n",
              "      <td>1.00</td>\n",
              "      <td>0.46</td>\n",
              "      <td>-0.44</td>\n",
              "    </tr>\n",
              "    <tr>\n",
              "      <th>PTRATIO</th>\n",
              "      <td>NaN</td>\n",
              "      <td>0.29</td>\n",
              "      <td>-0.39</td>\n",
              "      <td>0.38</td>\n",
              "      <td>-0.12</td>\n",
              "      <td>0.19</td>\n",
              "      <td>-0.36</td>\n",
              "      <td>0.26</td>\n",
              "      <td>-0.23</td>\n",
              "      <td>0.46</td>\n",
              "      <td>0.46</td>\n",
              "      <td>1.00</td>\n",
              "      <td>-0.18</td>\n",
              "    </tr>\n",
              "    <tr>\n",
              "      <th>B</th>\n",
              "      <td>NaN</td>\n",
              "      <td>-0.39</td>\n",
              "      <td>0.18</td>\n",
              "      <td>-0.36</td>\n",
              "      <td>0.05</td>\n",
              "      <td>-0.38</td>\n",
              "      <td>0.13</td>\n",
              "      <td>-0.27</td>\n",
              "      <td>0.29</td>\n",
              "      <td>-0.44</td>\n",
              "      <td>-0.44</td>\n",
              "      <td>-0.18</td>\n",
              "      <td>1.00</td>\n",
              "    </tr>\n",
              "  </tbody>\n",
              "</table>\n",
              "</div>"
            ],
            "text/plain": [
              "         const  CRIM    ZN  INDUS  CHAS  ...   DIS   RAD   TAX  PTRATIO     B\n",
              "const      NaN   NaN   NaN    NaN   NaN  ...   NaN   NaN   NaN      NaN   NaN\n",
              "CRIM       NaN  1.00 -0.20   0.41 -0.06  ... -0.38  0.63  0.58     0.29 -0.39\n",
              "ZN         NaN -0.20  1.00  -0.53 -0.04  ...  0.66 -0.31 -0.31    -0.39  0.18\n",
              "INDUS      NaN  0.41 -0.53   1.00  0.06  ... -0.71  0.60  0.72     0.38 -0.36\n",
              "CHAS       NaN -0.06 -0.04   0.06  1.00  ... -0.10 -0.01 -0.04    -0.12  0.05\n",
              "NOX        NaN  0.42 -0.52   0.76  0.09  ... -0.77  0.61  0.67     0.19 -0.38\n",
              "RM         NaN -0.22  0.31  -0.39  0.09  ...  0.21 -0.21 -0.29    -0.36  0.13\n",
              "AGE        NaN  0.35 -0.57   0.64  0.09  ... -0.75  0.46  0.51     0.26 -0.27\n",
              "DIS        NaN -0.38  0.66  -0.71 -0.10  ...  1.00 -0.49 -0.53    -0.23  0.29\n",
              "RAD        NaN  0.63 -0.31   0.60 -0.01  ... -0.49  1.00  0.91     0.46 -0.44\n",
              "TAX        NaN  0.58 -0.31   0.72 -0.04  ... -0.53  0.91  1.00     0.46 -0.44\n",
              "PTRATIO    NaN  0.29 -0.39   0.38 -0.12  ... -0.23  0.46  0.46     1.00 -0.18\n",
              "B          NaN -0.39  0.18  -0.36  0.05  ...  0.29 -0.44 -0.44    -0.18  1.00\n",
              "\n",
              "[13 rows x 13 columns]"
            ]
          },
          "metadata": {
            "tags": []
          },
          "execution_count": 14
        }
      ]
    },
    {
      "cell_type": "code",
      "metadata": {
        "id": "ElQoLcvkk3TU",
        "colab": {
          "base_uri": "https://localhost:8080/"
        },
        "outputId": "edd006bf-a6b0-48b4-c6dc-f3536421bf5a"
      },
      "source": [
        "# Find index of feature columns with correlation greater than 0.75\n",
        "Pos_corr_var=np.where(corr_matrix > 0.75)\n",
        "Pos_corr_var=[(corr_matrix.columns[x],corr_matrix.columns[y]) for x,y in zip(*Pos_corr_var) if x!=y and x<y]\n",
        "print(\"Highly Positive Related (> 0.75) : \")\n",
        "print(Pos_corr_var)\n",
        "\n",
        "# Find index of feature columns with correlation less than - 0.75\n",
        "Neg_corr_var=np.where(corr_matrix < -0.75)\n",
        "Neg_corr_var=[(corr_matrix.columns[x],corr_matrix.columns[y]) for x,y in zip(*Neg_corr_var) if x!=y and x<y]\n",
        "print(\"Highly Negatively Related (< - 0.75) : \")\n",
        "print(Neg_corr_var)\n",
        "\n",
        "# Inference : \n",
        "# Remove 'INDUS' / 'NOX', 'RAD'/'TAX , 'NOX'/'DIS'\n",
        "# Removing NOX\n",
        "independent_variables = independent_variables.drop(['NOX'], axis = 1)\n",
        "\n",
        "# Now out of 'RAD' & 'TAX' which one to remove ? VIF"
      ],
      "execution_count": null,
      "outputs": [
        {
          "output_type": "stream",
          "text": [
            "Highly Positive Related (> 0.75) : \n",
            "[('INDUS', 'NOX'), ('RAD', 'TAX')]\n",
            "Highly Negatively Related (< - 0.75) : \n",
            "[('NOX', 'DIS')]\n"
          ],
          "name": "stdout"
        }
      ]
    },
    {
      "cell_type": "code",
      "metadata": {
        "id": "b7LwqXFxk_L1",
        "colab": {
          "base_uri": "https://localhost:8080/"
        },
        "outputId": "3c89c9a4-3b3d-4453-8458-19b184b1d9ae"
      },
      "source": [
        "# Function for VIF\n",
        " \n",
        "def calc_vif(X):\n",
        "  # Calculating VIF\n",
        "  vif = pd.DataFrame()\n",
        "  vif[\"variables\"] = X.columns\n",
        "  vif[\"VIF\"] = [variance_inflation_factor(X.values, i) for i in range(X.shape[1])]\n",
        "  return(vif)\n",
        " \n",
        "print(pd.DataFrame(calc_vif(independent_variables).sort_values(\"VIF\")))\n",
        " \n",
        "# VIF = 1, no correlation between the independent variable and the other variables\n",
        "# VIF exceeding 20 indicates high multicollinearity between this independent variable and the others\n",
        " \n",
        "# Inference : \n",
        "# Remove 'RM','TAX' and 'PTRATIO'\n",
        "# independent_variables = independent_variables.drop(['RM', 'TAX', 'PTRATIO'], axis = 1)"
      ],
      "execution_count": null,
      "outputs": [
        {
          "output_type": "stream",
          "text": [
            "   variables         VIF\n",
            "4       CHAS    1.069265\n",
            "11         B    1.306190\n",
            "5         RM    1.347445\n",
            "10   PTRATIO    1.602691\n",
            "1       CRIM    1.746058\n",
            "2         ZN    2.289884\n",
            "6        AGE    2.480534\n",
            "7        DIS    3.640058\n",
            "3      INDUS    3.677764\n",
            "8        RAD    7.317727\n",
            "9        TAX    8.957485\n",
            "0      const  344.083623\n"
          ],
          "name": "stdout"
        }
      ]
    },
    {
      "cell_type": "code",
      "metadata": {
        "id": "eQEr2okU-cFt",
        "colab": {
          "base_uri": "https://localhost:8080/",
          "height": 517
        },
        "outputId": "8b775754-42af-4594-ec5b-9e98ef73e7ea"
      },
      "source": [
        "# Outlier in the data (Column Wise Checking)\n",
        "\n",
        "# CRIM Column\n",
        "print(\"Quantile Distribution\")\n",
        "print(pd.DataFrame(independent_variables['CRIM'].quantile([0, 0.1, 0.2, 0.3, 0.4, 0.5, 0.6, 0.7, 0.8, 0.9,0.95 ,1])))\n",
        "sns.boxplot(data = independent_variables, orient = 'h', order = ['CRIM'])\n",
        "\n",
        "# Inference : \n",
        "# Capping to 95% Datapoints\n",
        "independent_variables['CRIM'] = np.where(independent_variables['CRIM'].round(1) > 15.0, 15.0, independent_variables['CRIM'])"
      ],
      "execution_count": null,
      "outputs": [
        {
          "output_type": "stream",
          "text": [
            "Quantile Distribution\n",
            "           CRIM\n",
            "0.00   0.006320\n",
            "0.10   0.038195\n",
            "0.20   0.064170\n",
            "0.30   0.099245\n",
            "0.40   0.150380\n",
            "0.50   0.256510\n",
            "0.60   0.550070\n",
            "0.70   1.728440\n",
            "0.80   5.581070\n",
            "0.90  10.753000\n",
            "0.95  15.789150\n",
            "1.00  88.976200\n"
          ],
          "name": "stdout"
        },
        {
          "output_type": "display_data",
          "data": {
            "image/png": "[encoded data removed]",
            "text/plain": [
              "<Figure size 432x288 with 1 Axes>"
            ]
          },
          "metadata": {
            "tags": [],
            "needs_background": "light"
          }
        }
      ]
    },
    {
      "cell_type": "code",
      "metadata": {
        "id": "3ODwjtS9E3e9",
        "colab": {
          "base_uri": "https://localhost:8080/",
          "height": 535
        },
        "outputId": "af4c5a14-866f-4dbf-9b01-7db763eba5ef"
      },
      "source": [
        "# ZN Column\n",
        "\n",
        "print(\"Quantile Distribution\")\n",
        "print(pd.DataFrame(independent_variables['ZN'].quantile([0, 0.1, 0.2, 0.3, 0.4, 0.5, 0.6, 0.7, 0.8, 0.9,0.95 ,1])))\n",
        "sns.boxplot(data = independent_variables, orient = 'h', order = ['ZN'])\n",
        "\n",
        "# Inference : \n",
        "# Most Values (70%) data points are zero. So lets not do any capping !!"
      ],
      "execution_count": null,
      "outputs": [
        {
          "output_type": "stream",
          "text": [
            "Quantile Distribution\n",
            "         ZN\n",
            "0.00    0.0\n",
            "0.10    0.0\n",
            "0.20    0.0\n",
            "0.30    0.0\n",
            "0.40    0.0\n",
            "0.50    0.0\n",
            "0.60    0.0\n",
            "0.70    0.0\n",
            "0.80   20.0\n",
            "0.90   42.5\n",
            "0.95   80.0\n",
            "1.00  100.0\n"
          ],
          "name": "stdout"
        },
        {
          "output_type": "execute_result",
          "data": {
            "text/plain": [
              "<matplotlib.axes._subplots.AxesSubplot at 0x7f3e41bbf6a0>"
            ]
          },
          "metadata": {
            "tags": []
          },
          "execution_count": 18
        },
        {
          "output_type": "display_data",
          "data": {
            "image/png": "[encoded data removed]",
            "text/plain": [
              "<Figure size 432x288 with 1 Axes>"
            ]
          },
          "metadata": {
            "tags": [],
            "needs_background": "light"
          }
        }
      ]
    },
    {
      "cell_type": "code",
      "metadata": {
        "id": "xFuNEV0GFNj7",
        "colab": {
          "base_uri": "https://localhost:8080/",
          "height": 535
        },
        "outputId": "60e35231-0d4c-4e3b-8751-d60b5f5ab272"
      },
      "source": [
        "# CRIM Column\n",
        "\n",
        "print(\"Quantile Distribution\")\n",
        "print(pd.DataFrame(independent_variables['INDUS'].quantile([0, 0.1, 0.2, 0.3, 0.4, 0.5, 0.6, 0.7, 0.8, 0.9,0.95 ,1])))\n",
        "sns.boxplot(data = independent_variables, orient = 'h', order = ['INDUS'])\n",
        "\n",
        "# Inference : NO OUTLIERS"
      ],
      "execution_count": null,
      "outputs": [
        {
          "output_type": "stream",
          "text": [
            "Quantile Distribution\n",
            "      INDUS\n",
            "0.00   0.46\n",
            "0.10   2.91\n",
            "0.20   4.39\n",
            "0.30   5.96\n",
            "0.40   7.38\n",
            "0.50   9.69\n",
            "0.60  12.83\n",
            "0.70  18.10\n",
            "0.80  18.10\n",
            "0.90  19.58\n",
            "0.95  21.89\n",
            "1.00  27.74\n"
          ],
          "name": "stdout"
        },
        {
          "output_type": "execute_result",
          "data": {
            "text/plain": [
              "<matplotlib.axes._subplots.AxesSubplot at 0x7f3e41b99320>"
            ]
          },
          "metadata": {
            "tags": []
          },
          "execution_count": 19
        },
        {
          "output_type": "display_data",
          "data": {
            "image/png": "[encoded data removed]",
            "text/plain": [
              "<Figure size 432x288 with 1 Axes>"
            ]
          },
          "metadata": {
            "tags": [],
            "needs_background": "light"
          }
        }
      ]
    },
    {
      "cell_type": "code",
      "metadata": {
        "id": "SUOBOA8LGEFC",
        "colab": {
          "base_uri": "https://localhost:8080/",
          "height": 517
        },
        "outputId": "1a3b36d4-5eac-4e5c-a961-4b0579900d9e"
      },
      "source": [
        "# CHAS Column\n",
        "\n",
        "print(\"Quantile Distribution\")\n",
        "print(pd.DataFrame(independent_variables['CHAS'].quantile([0, 0.1, 0.2, 0.3, 0.4, 0.5, 0.6, 0.7, 0.8, 0.9,0.95 ,1])))\n",
        "sns.boxplot(data = independent_variables, orient = 'h', order = ['CHAS'])\n",
        "\n",
        "# Inference : \n",
        "# 90% of Data is 0. So lets drop the variable\n",
        "independent_variables = independent_variables.drop(['CHAS'], axis = 1)"
      ],
      "execution_count": null,
      "outputs": [
        {
          "output_type": "stream",
          "text": [
            "Quantile Distribution\n",
            "      CHAS\n",
            "0.00   0.0\n",
            "0.10   0.0\n",
            "0.20   0.0\n",
            "0.30   0.0\n",
            "0.40   0.0\n",
            "0.50   0.0\n",
            "0.60   0.0\n",
            "0.70   0.0\n",
            "0.80   0.0\n",
            "0.90   0.0\n",
            "0.95   1.0\n",
            "1.00   1.0\n"
          ],
          "name": "stdout"
        },
        {
          "output_type": "display_data",
          "data": {
            "image/png": "[encoded data removed]",
            "text/plain": [
              "<Figure size 432x288 with 1 Axes>"
            ]
          },
          "metadata": {
            "tags": [],
            "needs_background": "light"
          }
        }
      ]
    },
    {
      "cell_type": "code",
      "metadata": {
        "id": "cFG10BSrGdbk",
        "colab": {
          "base_uri": "https://localhost:8080/",
          "height": 535
        },
        "outputId": "a57365ae-f977-43d4-945f-ce10120001e0"
      },
      "source": [
        "# AGE Column \n",
        "\n",
        "print(\"Quantile Distribution\")\n",
        "print(pd.DataFrame(independent_variables['AGE'].quantile([0, 0.1, 0.2, 0.3, 0.4, 0.5, 0.6, 0.7, 0.8, 0.9,0.95 ,1])))\n",
        "sns.boxplot(data = independent_variables, orient = 'h', order = ['AGE'])\n",
        "\n",
        "# Inference : NO OUTLIERS"
      ],
      "execution_count": null,
      "outputs": [
        {
          "output_type": "stream",
          "text": [
            "Quantile Distribution\n",
            "         AGE\n",
            "0.00    2.90\n",
            "0.10   26.95\n",
            "0.20   37.80\n",
            "0.30   52.40\n",
            "0.40   65.40\n",
            "0.50   77.50\n",
            "0.60   85.90\n",
            "0.70   91.80\n",
            "0.80   95.60\n",
            "0.90   98.80\n",
            "0.95  100.00\n",
            "1.00  100.00\n"
          ],
          "name": "stdout"
        },
        {
          "output_type": "execute_result",
          "data": {
            "text/plain": [
              "<matplotlib.axes._subplots.AxesSubplot at 0x7f3e41ae6828>"
            ]
          },
          "metadata": {
            "tags": []
          },
          "execution_count": 21
        },
        {
          "output_type": "display_data",
          "data": {
            "image/png": "[encoded data removed]",
            "text/plain": [
              "<Figure size 432x288 with 1 Axes>"
            ]
          },
          "metadata": {
            "tags": [],
            "needs_background": "light"
          }
        }
      ]
    },
    {
      "cell_type": "code",
      "metadata": {
        "id": "i-PA04qwGcxi",
        "colab": {
          "base_uri": "https://localhost:8080/",
          "height": 517
        },
        "outputId": "a4840362-6f8e-4364-98a4-cc5237599d01"
      },
      "source": [
        "# DIS Column\n",
        "\n",
        "print(\"Quantile Distribution\")\n",
        "print(pd.DataFrame(independent_variables['DIS'].quantile([0, 0.1, 0.2, 0.3, 0.4, 0.5, 0.6, 0.7, 0.8, 0.9,0.95 ,1])))\n",
        "sns.boxplot(data = independent_variables, orient = 'h', order = ['DIS'])\n",
        "\n",
        "# Inference : Capping to 95% Datapoints\n",
        "independent_variables['DIS'] = np.where(independent_variables['DIS'].round(1) > 7.0, 7.0, independent_variables['DIS'])"
      ],
      "execution_count": null,
      "outputs": [
        {
          "output_type": "stream",
          "text": [
            "Quantile Distribution\n",
            "           DIS\n",
            "0.00   1.12960\n",
            "0.10   1.62830\n",
            "0.20   1.95120\n",
            "0.30   2.25965\n",
            "0.40   2.64030\n",
            "0.50   3.20745\n",
            "0.60   3.87500\n",
            "0.70   4.54040\n",
            "0.80   5.61500\n",
            "0.90   6.81660\n",
            "0.95   7.82780\n",
            "1.00  12.12650\n"
          ],
          "name": "stdout"
        },
        {
          "output_type": "display_data",
          "data": {
            "image/png": "[encoded data removed]",
            "text/plain": [
              "<Figure size 432x288 with 1 Axes>"
            ]
          },
          "metadata": {
            "tags": [],
            "needs_background": "light"
          }
        }
      ]
    },
    {
      "cell_type": "code",
      "metadata": {
        "id": "1ePvy_enGbtT",
        "colab": {
          "base_uri": "https://localhost:8080/",
          "height": 535
        },
        "outputId": "2787654f-92b0-4d5e-8f3d-fc9c5884f431"
      },
      "source": [
        "# RAD Column \n",
        "\n",
        "print(\"Quantile Distribution\")\n",
        "print(pd.DataFrame(independent_variables['RAD'].quantile([0, 0.1, 0.2, 0.3, 0.4, 0.5, 0.6, 0.7, 0.8, 0.9,0.95 ,1])))\n",
        "sns.boxplot(data = independent_variables, orient = 'h', order = ['RAD'])\n",
        "\n",
        "# Inference : NO OUTLIERS"
      ],
      "execution_count": null,
      "outputs": [
        {
          "output_type": "stream",
          "text": [
            "Quantile Distribution\n",
            "       RAD\n",
            "0.00   1.0\n",
            "0.10   3.0\n",
            "0.20   4.0\n",
            "0.30   4.0\n",
            "0.40   5.0\n",
            "0.50   5.0\n",
            "0.60   5.0\n",
            "0.70   8.0\n",
            "0.80  24.0\n",
            "0.90  24.0\n",
            "0.95  24.0\n",
            "1.00  24.0\n"
          ],
          "name": "stdout"
        },
        {
          "output_type": "execute_result",
          "data": {
            "text/plain": [
              "<matplotlib.axes._subplots.AxesSubplot at 0x7f3e41a2a4e0>"
            ]
          },
          "metadata": {
            "tags": []
          },
          "execution_count": 23
        },
        {
          "output_type": "display_data",
          "data": {
            "image/png": "[encoded data removed]",
            "text/plain": [
              "<Figure size 432x288 with 1 Axes>"
            ]
          },
          "metadata": {
            "tags": [],
            "needs_background": "light"
          }
        }
      ]
    },
    {
      "cell_type": "code",
      "metadata": {
        "id": "KHHA9PwnGa9j",
        "colab": {
          "base_uri": "https://localhost:8080/"
        },
        "outputId": "8f2ceb2c-9c78-4524-b800-6782a099ddad"
      },
      "source": [
        "# B Column\n",
        "\n",
        "print(\"Quantile Distribution\")\n",
        "print(pd.DataFrame(independent_variables['B'].quantile([0, 0.1, 0.2, 0.3, 0.4, 0.5, 0.6, 0.7, 0.8, 0.9,0.95 ,1])))\n",
        "sns.boxplot(data = independent_variables, orient = 'h', order = ['B'])\n",
        "\n",
        "# Inference : Capping to first 10% Datapoints\n",
        "independent_variables['B'] = np.where(independent_variables['B'].round(1) < 290.0, 290.0, independent_variables['B'])"
      ],
      "execution_count": null,
      "outputs": [
        {
          "output_type": "stream",
          "text": [
            "Quantile Distribution\n",
            "            B\n",
            "0.00    0.320\n",
            "0.10  290.270\n",
            "0.20  364.310\n",
            "0.30  378.665\n",
            "0.40  387.970\n",
            "0.50  391.440\n",
            "0.60  393.530\n",
            "0.70  395.465\n",
            "0.80  396.900\n",
            "0.90  396.900\n",
            "0.95  396.900\n",
            "1.00  396.900\n"
          ],
          "name": "stdout"
        },
        {
          "output_type": "display_data",
          "data": {
            "image/png": "[encoded data removed]",
            "text/plain": [
              "<Figure size 432x288 with 1 Axes>"
            ]
          },
          "metadata": {
            "tags": [],
            "needs_background": "light"
          }
        }
      ]
    },
    {
      "cell_type": "code",
      "metadata": {
        "id": "p19JMawzBblD",
        "colab": {
          "base_uri": "https://localhost:8080/"
        },
        "outputId": "cc3fd34f-7919-4515-c893-96abbec23d5f"
      },
      "source": [
        "# Skewness in the Data\n",
        "\n",
        "# If Skewness = 0, data is perfectly symmetrical\n",
        "# If Skewness is less than -1 or greater +1, distribution is highly skewed\n",
        "# If Skewness is between -1 and -0.5 or between 0.5 and 1, distribution is moderately skewed\n",
        "# If Skewness is between -0.5 and 0.5 then it is approximately symmetric  \n",
        "\n",
        "pd.DataFrame(independent_variables.skew().round(2),columns = [\"Skewness\"])\n",
        "\n",
        "# Inference : Positive Skew - 'CRIM','ZN' & Negative Skew - 'B'"
      ],
      "execution_count": null,
      "outputs": [
        {
          "output_type": "execute_result",
          "data": {
            "text/html": [
              "<div>\n",
              "<style scoped>\n",
              "    .dataframe tbody tr th:only-of-type {\n",
              "        vertical-align: middle;\n",
              "    }\n",
              "\n",
              "    .dataframe tbody tr th {\n",
              "        vertical-align: top;\n",
              "    }\n",
              "\n",
              "    .dataframe thead th {\n",
              "        text-align: right;\n",
              "    }\n",
              "</style>\n",
              "<table border=\"1\" class=\"dataframe\">\n",
              "  <thead>\n",
              "    <tr style=\"text-align: right;\">\n",
              "      <th></th>\n",
              "      <th>Skewness</th>\n",
              "    </tr>\n",
              "  </thead>\n",
              "  <tbody>\n",
              "    <tr>\n",
              "      <th>const</th>\n",
              "      <td>0.00</td>\n",
              "    </tr>\n",
              "    <tr>\n",
              "      <th>CRIM</th>\n",
              "      <td>1.71</td>\n",
              "    </tr>\n",
              "    <tr>\n",
              "      <th>ZN</th>\n",
              "      <td>2.23</td>\n",
              "    </tr>\n",
              "    <tr>\n",
              "      <th>INDUS</th>\n",
              "      <td>0.30</td>\n",
              "    </tr>\n",
              "    <tr>\n",
              "      <th>RM</th>\n",
              "      <td>0.40</td>\n",
              "    </tr>\n",
              "    <tr>\n",
              "      <th>AGE</th>\n",
              "      <td>-0.60</td>\n",
              "    </tr>\n",
              "    <tr>\n",
              "      <th>DIS</th>\n",
              "      <td>0.55</td>\n",
              "    </tr>\n",
              "    <tr>\n",
              "      <th>RAD</th>\n",
              "      <td>1.00</td>\n",
              "    </tr>\n",
              "    <tr>\n",
              "      <th>TAX</th>\n",
              "      <td>0.67</td>\n",
              "    </tr>\n",
              "    <tr>\n",
              "      <th>PTRATIO</th>\n",
              "      <td>-0.80</td>\n",
              "    </tr>\n",
              "    <tr>\n",
              "      <th>B</th>\n",
              "      <td>-1.76</td>\n",
              "    </tr>\n",
              "  </tbody>\n",
              "</table>\n",
              "</div>"
            ],
            "text/plain": [
              "         Skewness\n",
              "const        0.00\n",
              "CRIM         1.71\n",
              "ZN           2.23\n",
              "INDUS        0.30\n",
              "RM           0.40\n",
              "AGE         -0.60\n",
              "DIS          0.55\n",
              "RAD          1.00\n",
              "TAX          0.67\n",
              "PTRATIO     -0.80\n",
              "B           -1.76"
            ]
          },
          "metadata": {
            "tags": []
          },
          "execution_count": 25
        }
      ]
    },
    {
      "cell_type": "code",
      "metadata": {
        "id": "4T8AURorE2N9",
        "colab": {
          "base_uri": "https://localhost:8080/"
        },
        "outputId": "23a9df45-1da4-437e-f0af-ca418498803f"
      },
      "source": [
        "# Remove Skewness one by one (Column Wise)\n",
        "\n",
        "# CRIM Variable\n",
        "# Log Transformation\n",
        "CRIM_Log = np.log(independent_variables['CRIM'])\n",
        "\n",
        "# Square Root Transformation\n",
        "CRIM_sqrt = np.sqrt(independent_variables['CRIM'])\n",
        "\n",
        "# Cube Root Transformation\n",
        "CRIM_cbrt = np.cbrt(independent_variables['CRIM'])\n",
        "\n",
        "# Box Cox Transformation\n",
        "from scipy import stats\n",
        "CRIM_BoxCox = stats.boxcox(independent_variables['CRIM'])[0]\n",
        "Variable = pd.Series(CRIM_BoxCox)\n",
        "\n",
        "print(\"Comparing all Skewness values\")\n",
        "print(pd.DataFrame([independent_variables['CRIM'].skew(),CRIM_Log.skew(),CRIM_sqrt.skew(),CRIM_cbrt.skew(),Variable.skew()],\n",
        "             index=['Normal','Log','Square Root','Cube Root','Box Cox'],\n",
        "             columns = [\"Skewness\"]))\n",
        "\n",
        "# Inference : Best transformations is Log Transformation (Near to 0)\n",
        "\n",
        "independent_variables['CRIM_Log'] = CRIM_Log"
      ],
      "execution_count": null,
      "outputs": [
        {
          "output_type": "stream",
          "text": [
            "Comparing all Skewness values\n",
            "             Skewness\n",
            "Normal       1.705324\n",
            "Log          0.321681\n",
            "Square Root  1.168043\n",
            "Cube Root    0.935891\n",
            "Box Cox      0.083939\n"
          ],
          "name": "stdout"
        }
      ]
    },
    {
      "cell_type": "code",
      "metadata": {
        "id": "6Cudu17XLlWV",
        "colab": {
          "base_uri": "https://localhost:8080/"
        },
        "outputId": "60232920-de4e-4c8d-d10a-4cf4f15f74ea"
      },
      "source": [
        "# ZN Variable\n",
        "\n",
        "# Log Transformation\n",
        "ZN_Log = np.log(independent_variables['ZN'])\n",
        "\n",
        "# Square Root Transformation\n",
        "ZN_sqrt = np.sqrt(independent_variables['ZN'])\n",
        "\n",
        "# Cube Root Transformation\n",
        "ZN_cbrt = np.cbrt(independent_variables['ZN'])\n",
        "\n",
        "print(\"Comparing all Skewness values\")\n",
        "print(pd.DataFrame([independent_variables['ZN'].skew(),ZN_Log.skew(),ZN_sqrt.skew(),ZN_cbrt.skew()],\n",
        "             index=['Normal','Log','Square Root','Cube Root'],\n",
        "             columns = [\"Skewness\"]))\n",
        "\n",
        "# Inference : Best transformations is Cube Transformation (Near to 0)\n",
        "\n",
        "independent_variables['ZN_Cbrt'] = ZN_cbrt"
      ],
      "execution_count": null,
      "outputs": [
        {
          "output_type": "stream",
          "text": [
            "Comparing all Skewness values\n",
            "             Skewness\n",
            "Normal       2.225666\n",
            "Log               NaN\n",
            "Square Root  1.476293\n",
            "Cube Root    1.262563\n"
          ],
          "name": "stdout"
        },
        {
          "output_type": "stream",
          "text": [
            "/usr/local/lib/python3.6/dist-packages/pandas/core/series.py:726: RuntimeWarning: divide by zero encountered in log\n",
            "  result = getattr(ufunc, method)(*inputs, **kwargs)\n"
          ],
          "name": "stderr"
        }
      ]
    },
    {
      "cell_type": "code",
      "metadata": {
        "id": "tmRPbMMLMGGB",
        "colab": {
          "base_uri": "https://localhost:8080/"
        },
        "outputId": "40d9cc51-dfd4-41ce-e1d3-e03b346ff648"
      },
      "source": [
        "# B Variable\n",
        "\n",
        "# Log Transformation\n",
        "B_Log = np.log(independent_variables['B'])\n",
        "\n",
        "# Square Root Transformation\n",
        "B_sqrt = np.sqrt(independent_variables['B'])\n",
        "\n",
        "# Cube Root Transformation\n",
        "B_cbrt = np.cbrt(independent_variables['B'])\n",
        "\n",
        "# Box Cox Transformation\n",
        "from scipy import stats\n",
        "B_BoxCox = stats.boxcox(independent_variables['B'])[0]\n",
        "Variable = pd.Series(B_BoxCox)\n",
        "\n",
        "print(\"Comparing all Skewness values\")\n",
        "print(pd.DataFrame([independent_variables['B'].skew(),B_Log.skew(),B_sqrt.skew(),B_cbrt.skew(),Variable.skew()],\n",
        "             index=['Normal','Log','Square Root','Cube Root','Box Cox'],\n",
        "             columns = [\"Skewness\"]))\n",
        "\n",
        "# Inference : Best transformations is Box Cox Transformation (Approx to zero)\n",
        "# But avoiding Box Cox because it give values e raise to, second best is Square Root Transformation\n",
        "independent_variables['B_Sqrt'] = B_sqrt"
      ],
      "execution_count": null,
      "outputs": [
        {
          "output_type": "stream",
          "text": [
            "Comparing all Skewness values\n",
            "             Skewness\n",
            "Normal      -1.760681\n",
            "Log         -1.837693\n",
            "Square Root -1.799513\n",
            "Cube Root   -1.812319\n",
            "Box Cox     -0.867610\n"
          ],
          "name": "stdout"
        }
      ]
    },
    {
      "cell_type": "code",
      "metadata": {
        "id": "B0LnS5sbOB8p",
        "colab": {
          "base_uri": "https://localhost:8080/"
        },
        "outputId": "36ce65b7-92c4-40b3-af95-e542d6927e53"
      },
      "source": [
        "# Removing variables (raw variables) which are transformed and keep one set also (no removing)\n",
        "independent_variables_v2 = independent_variables\n",
        "\n",
        "# Removing variables\n",
        "independent_variables = independent_variables.drop(['CRIM', 'ZN', 'B'], axis = 1)\n",
        "\n",
        "# Round to 2 decimal point\n",
        "independent_variables = independent_variables.round(2)\n",
        "independent_variables.head()"
      ],
      "execution_count": null,
      "outputs": [
        {
          "output_type": "execute_result",
          "data": {
            "text/html": [
              "<div>\n",
              "<style scoped>\n",
              "    .dataframe tbody tr th:only-of-type {\n",
              "        vertical-align: middle;\n",
              "    }\n",
              "\n",
              "    .dataframe tbody tr th {\n",
              "        vertical-align: top;\n",
              "    }\n",
              "\n",
              "    .dataframe thead th {\n",
              "        text-align: right;\n",
              "    }\n",
              "</style>\n",
              "<table border=\"1\" class=\"dataframe\">\n",
              "  <thead>\n",
              "    <tr style=\"text-align: right;\">\n",
              "      <th></th>\n",
              "      <th>const</th>\n",
              "      <th>INDUS</th>\n",
              "      <th>RM</th>\n",
              "      <th>AGE</th>\n",
              "      <th>DIS</th>\n",
              "      <th>RAD</th>\n",
              "      <th>TAX</th>\n",
              "      <th>PTRATIO</th>\n",
              "      <th>CRIM_Log</th>\n",
              "      <th>ZN_Cbrt</th>\n",
              "      <th>B_Sqrt</th>\n",
              "    </tr>\n",
              "  </thead>\n",
              "  <tbody>\n",
              "    <tr>\n",
              "      <th>0</th>\n",
              "      <td>1.0</td>\n",
              "      <td>2.31</td>\n",
              "      <td>6.58</td>\n",
              "      <td>65.2</td>\n",
              "      <td>4.09</td>\n",
              "      <td>1.0</td>\n",
              "      <td>296.0</td>\n",
              "      <td>15.3</td>\n",
              "      <td>-5.06</td>\n",
              "      <td>2.62</td>\n",
              "      <td>19.92</td>\n",
              "    </tr>\n",
              "    <tr>\n",
              "      <th>1</th>\n",
              "      <td>1.0</td>\n",
              "      <td>7.07</td>\n",
              "      <td>6.42</td>\n",
              "      <td>78.9</td>\n",
              "      <td>4.97</td>\n",
              "      <td>2.0</td>\n",
              "      <td>242.0</td>\n",
              "      <td>17.8</td>\n",
              "      <td>-3.60</td>\n",
              "      <td>0.00</td>\n",
              "      <td>19.92</td>\n",
              "    </tr>\n",
              "    <tr>\n",
              "      <th>2</th>\n",
              "      <td>1.0</td>\n",
              "      <td>7.07</td>\n",
              "      <td>7.18</td>\n",
              "      <td>61.1</td>\n",
              "      <td>4.97</td>\n",
              "      <td>2.0</td>\n",
              "      <td>242.0</td>\n",
              "      <td>17.8</td>\n",
              "      <td>-3.60</td>\n",
              "      <td>0.00</td>\n",
              "      <td>19.82</td>\n",
              "    </tr>\n",
              "    <tr>\n",
              "      <th>3</th>\n",
              "      <td>1.0</td>\n",
              "      <td>2.18</td>\n",
              "      <td>7.00</td>\n",
              "      <td>45.8</td>\n",
              "      <td>6.06</td>\n",
              "      <td>3.0</td>\n",
              "      <td>222.0</td>\n",
              "      <td>18.7</td>\n",
              "      <td>-3.43</td>\n",
              "      <td>0.00</td>\n",
              "      <td>19.87</td>\n",
              "    </tr>\n",
              "    <tr>\n",
              "      <th>4</th>\n",
              "      <td>1.0</td>\n",
              "      <td>2.18</td>\n",
              "      <td>7.15</td>\n",
              "      <td>54.2</td>\n",
              "      <td>6.06</td>\n",
              "      <td>3.0</td>\n",
              "      <td>222.0</td>\n",
              "      <td>18.7</td>\n",
              "      <td>-2.67</td>\n",
              "      <td>0.00</td>\n",
              "      <td>19.92</td>\n",
              "    </tr>\n",
              "  </tbody>\n",
              "</table>\n",
              "</div>"
            ],
            "text/plain": [
              "   const  INDUS    RM   AGE   DIS  ...    TAX  PTRATIO  CRIM_Log  ZN_Cbrt  B_Sqrt\n",
              "0    1.0   2.31  6.58  65.2  4.09  ...  296.0     15.3     -5.06     2.62   19.92\n",
              "1    1.0   7.07  6.42  78.9  4.97  ...  242.0     17.8     -3.60     0.00   19.92\n",
              "2    1.0   7.07  7.18  61.1  4.97  ...  242.0     17.8     -3.60     0.00   19.82\n",
              "3    1.0   2.18  7.00  45.8  6.06  ...  222.0     18.7     -3.43     0.00   19.87\n",
              "4    1.0   2.18  7.15  54.2  6.06  ...  222.0     18.7     -2.67     0.00   19.92\n",
              "\n",
              "[5 rows x 11 columns]"
            ]
          },
          "metadata": {
            "tags": []
          },
          "execution_count": 29
        }
      ]
    },
    {
      "cell_type": "code",
      "metadata": {
        "id": "2TQWyaWWQxhg",
        "colab": {
          "base_uri": "https://localhost:8080/"
        },
        "outputId": "2d3ad0e7-987e-4658-88a9-65dc1582a1a9"
      },
      "source": [
        "# Now Train the model\n",
        "\n",
        "# Splitting Data into 70:30\n",
        "data_train, data_test, house_price_train, house_price_test = train_test_split(independent_variables,dependent_variable,train_size = 0.7,random_state = 21)\n",
        "\n",
        "# Fitting the model\n",
        "Model_2 = OLS(house_price_train,data_train).fit()\n",
        "Model_2.summary()"
      ],
      "execution_count": null,
      "outputs": [
        {
          "output_type": "execute_result",
          "data": {
            "text/html": [
              "<table class=\"simpletable\">\n",
              "<caption>OLS Regression Results</caption>\n",
              "<tr>\n",
              "  <th>Dep. Variable:</th>       <td>HOUSEPRICE</td>    <th>  R-squared:         </th> <td>   0.639</td>\n",
              "</tr>\n",
              "<tr>\n",
              "  <th>Model:</th>                   <td>OLS</td>       <th>  Adj. R-squared:    </th> <td>   0.628</td>\n",
              "</tr>\n",
              "<tr>\n",
              "  <th>Method:</th>             <td>Least Squares</td>  <th>  F-statistic:       </th> <td>   60.65</td>\n",
              "</tr>\n",
              "<tr>\n",
              "  <th>Date:</th>             <td>Tue, 26 Jan 2021</td> <th>  Prob (F-statistic):</th> <td>9.29e-70</td>\n",
              "</tr>\n",
              "<tr>\n",
              "  <th>Time:</th>                 <td>13:36:02</td>     <th>  Log-Likelihood:    </th> <td> -1096.8</td>\n",
              "</tr>\n",
              "<tr>\n",
              "  <th>No. Observations:</th>      <td>   354</td>      <th>  AIC:               </th> <td>   2216.</td>\n",
              "</tr>\n",
              "<tr>\n",
              "  <th>Df Residuals:</th>          <td>   343</td>      <th>  BIC:               </th> <td>   2258.</td>\n",
              "</tr>\n",
              "<tr>\n",
              "  <th>Df Model:</th>              <td>    10</td>      <th>                     </th>     <td> </td>   \n",
              "</tr>\n",
              "<tr>\n",
              "  <th>Covariance Type:</th>      <td>nonrobust</td>    <th>                     </th>     <td> </td>   \n",
              "</tr>\n",
              "</table>\n",
              "<table class=\"simpletable\">\n",
              "<tr>\n",
              "      <td></td>        <th>coef</th>     <th>std err</th>      <th>t</th>      <th>P>|t|</th>  <th>[0.025</th>    <th>0.975]</th>  \n",
              "</tr>\n",
              "<tr>\n",
              "  <th>const</th>    <td>   -7.1318</td> <td>    8.474</td> <td>   -0.842</td> <td> 0.401</td> <td>  -23.799</td> <td>    9.535</td>\n",
              "</tr>\n",
              "<tr>\n",
              "  <th>INDUS</th>    <td>   -0.0841</td> <td>    0.080</td> <td>   -1.058</td> <td> 0.291</td> <td>   -0.240</td> <td>    0.072</td>\n",
              "</tr>\n",
              "<tr>\n",
              "  <th>RM</th>       <td>    5.9865</td> <td>    0.461</td> <td>   12.981</td> <td> 0.000</td> <td>    5.079</td> <td>    6.894</td>\n",
              "</tr>\n",
              "<tr>\n",
              "  <th>AGE</th>      <td>   -0.0709</td> <td>    0.017</td> <td>   -4.126</td> <td> 0.000</td> <td>   -0.105</td> <td>   -0.037</td>\n",
              "</tr>\n",
              "<tr>\n",
              "  <th>DIS</th>      <td>   -1.5377</td> <td>    0.322</td> <td>   -4.768</td> <td> 0.000</td> <td>   -2.172</td> <td>   -0.903</td>\n",
              "</tr>\n",
              "<tr>\n",
              "  <th>RAD</th>      <td>    0.2449</td> <td>    0.105</td> <td>    2.343</td> <td> 0.020</td> <td>    0.039</td> <td>    0.450</td>\n",
              "</tr>\n",
              "<tr>\n",
              "  <th>TAX</th>      <td>   -0.0149</td> <td>    0.005</td> <td>   -3.054</td> <td> 0.002</td> <td>   -0.025</td> <td>   -0.005</td>\n",
              "</tr>\n",
              "<tr>\n",
              "  <th>PTRATIO</th>  <td>   -1.0319</td> <td>    0.183</td> <td>   -5.641</td> <td> 0.000</td> <td>   -1.392</td> <td>   -0.672</td>\n",
              "</tr>\n",
              "<tr>\n",
              "  <th>CRIM_Log</th> <td>   -0.4998</td> <td>    0.381</td> <td>   -1.313</td> <td> 0.190</td> <td>   -1.248</td> <td>    0.249</td>\n",
              "</tr>\n",
              "<tr>\n",
              "  <th>ZN_Cbrt</th>  <td>    0.2892</td> <td>    0.308</td> <td>    0.940</td> <td> 0.348</td> <td>   -0.316</td> <td>    0.895</td>\n",
              "</tr>\n",
              "<tr>\n",
              "  <th>B_Sqrt</th>   <td>    1.3286</td> <td>    0.372</td> <td>    3.572</td> <td> 0.000</td> <td>    0.597</td> <td>    2.060</td>\n",
              "</tr>\n",
              "</table>\n",
              "<table class=\"simpletable\">\n",
              "<tr>\n",
              "  <th>Omnibus:</th>       <td>202.916</td> <th>  Durbin-Watson:     </th> <td>   2.107</td>\n",
              "</tr>\n",
              "<tr>\n",
              "  <th>Prob(Omnibus):</th> <td> 0.000</td>  <th>  Jarque-Bera (JB):  </th> <td>2161.246</td>\n",
              "</tr>\n",
              "<tr>\n",
              "  <th>Skew:</th>          <td> 2.191</td>  <th>  Prob(JB):          </th> <td>    0.00</td>\n",
              "</tr>\n",
              "<tr>\n",
              "  <th>Kurtosis:</th>      <td>14.283</td>  <th>  Cond. No.          </th> <td>1.32e+04</td>\n",
              "</tr>\n",
              "</table><br/><br/>Warnings:<br/>[1] Standard Errors assume that the covariance matrix of the errors is correctly specified.<br/>[2] The condition number is large, 1.32e+04. This might indicate that there are<br/>strong multicollinearity or other numerical problems."
            ],
            "text/plain": [
              "<class 'statsmodels.iolib.summary.Summary'>\n",
              "\"\"\"\n",
              "                            OLS Regression Results                            \n",
              "==============================================================================\n",
              "Dep. Variable:             HOUSEPRICE   R-squared:                       0.639\n",
              "Model:                            OLS   Adj. R-squared:                  0.628\n",
              "Method:                 Least Squares   F-statistic:                     60.65\n",
              "Date:                Tue, 26 Jan 2021   Prob (F-statistic):           9.29e-70\n",
              "Time:                        13:36:02   Log-Likelihood:                -1096.8\n",
              "No. Observations:                 354   AIC:                             2216.\n",
              "Df Residuals:                     343   BIC:                             2258.\n",
              "Df Model:                          10                                         \n",
              "Covariance Type:            nonrobust                                         \n",
              "==============================================================================\n",
              "                 coef    std err          t      P>|t|      [0.025      0.975]\n",
              "------------------------------------------------------------------------------\n",
              "const         -7.1318      8.474     -0.842      0.401     -23.799       9.535\n",
              "INDUS         -0.0841      0.080     -1.058      0.291      -0.240       0.072\n",
              "RM             5.9865      0.461     12.981      0.000       5.079       6.894\n",
              "AGE           -0.0709      0.017     -4.126      0.000      -0.105      -0.037\n",
              "DIS           -1.5377      0.322     -4.768      0.000      -2.172      -0.903\n",
              "RAD            0.2449      0.105      2.343      0.020       0.039       0.450\n",
              "TAX           -0.0149      0.005     -3.054      0.002      -0.025      -0.005\n",
              "PTRATIO       -1.0319      0.183     -5.641      0.000      -1.392      -0.672\n",
              "CRIM_Log      -0.4998      0.381     -1.313      0.190      -1.248       0.249\n",
              "ZN_Cbrt        0.2892      0.308      0.940      0.348      -0.316       0.895\n",
              "B_Sqrt         1.3286      0.372      3.572      0.000       0.597       2.060\n",
              "==============================================================================\n",
              "Omnibus:                      202.916   Durbin-Watson:                   2.107\n",
              "Prob(Omnibus):                  0.000   Jarque-Bera (JB):             2161.246\n",
              "Skew:                           2.191   Prob(JB):                         0.00\n",
              "Kurtosis:                      14.283   Cond. No.                     1.32e+04\n",
              "==============================================================================\n",
              "\n",
              "Warnings:\n",
              "[1] Standard Errors assume that the covariance matrix of the errors is correctly specified.\n",
              "[2] The condition number is large, 1.32e+04. This might indicate that there are\n",
              "strong multicollinearity or other numerical problems.\n",
              "\"\"\""
            ]
          },
          "metadata": {
            "tags": []
          },
          "execution_count": 30
        }
      ]
    },
    {
      "cell_type": "code",
      "metadata": {
        "id": "TrEUVnQklh1A",
        "colab": {
          "base_uri": "https://localhost:8080/"
        },
        "outputId": "ea5c2f45-a2a6-498e-e157-3391f6131fd4"
      },
      "source": [
        "# Model Properties\n",
        "\n",
        "# Normality of the residuals\n",
        "# Jarque-Bera test:\n",
        "name = ['Jarque-Bera', 'Chi^2 two-tail prob.', 'Skew', 'Kurtosis']\n",
        "test = sms.jarque_bera(Model_2.resid)\n",
        "base_model_properties_2 = lzip(name, test)\n",
        "print(\"MODEL 2 PARAMETERS\")\n",
        "print(\"\\n\")\n",
        "print(\"Normality of the residuals\")\n",
        "print(\"Jarque-Bera test : \")\n",
        "print(\"JB, ideal is close to 0\")\n",
        "print(\"Probability(JB), less than 0.05\")\n",
        "print(\"Skewness, ideal is -1 to 1\")\n",
        "print(\"Kurtosis, ideal value is 3\")\n",
        "print(pd.DataFrame(base_model_properties_2,columns = ['Test','Values']).round(2))\n",
        "\n",
        "# Omni test:\n",
        "print(\"Omni Test : \")\n",
        "print(\"Omni, ideal is close to 0\")\n",
        "print(\"Probability(Omni), less than 0.05\")\n",
        "name = ['Chi^2', 'Two-tail probability']\n",
        "test = sms.omni_normtest(Model_2.resid)\n",
        "print(pd.DataFrame(lzip(name, test),columns = ['Test','Values']).round(2))\n",
        "\n",
        "# Multicollinearity\n",
        "print(\"\\n\")\n",
        "print(\"Multicollinearity\")\n",
        "print(\"Ideal Condition Number will be less than 30\")\n",
        "print(\"Condition number:\",np.linalg.cond(Model_2.model.exog).round(2))\n",
        "\n",
        "# Adjusted R Square\n",
        "print(\"\\n\")\n",
        "print(\"Model Performance\")\n",
        "print(\"Adjusted R Square, ideal is close to 1\")\n",
        "print(\"Adjusted R Square : \",Model_2.rsquared_adj.round(2))\n",
        "\n",
        "# F Statistics\n",
        "print(\"\\n\")\n",
        "print(\"Significance of Independent Variables\")\n",
        "print(\"Probability(F Stat), less than 0.05 suggests independent variables are important\")\n",
        "print(\"F Statistics : \",Model_2.fvalue.round(2))\n",
        "print(\"Probability of F Statistics : \",Model_2.f_pvalue.round(2))\n",
        "\n",
        "# Durbin Watson Test\n",
        "print(\"\\n\")\n",
        "print(\"Homoscedasticity of Error\")\n",
        "print(\"Durbin Watson, ideal is between 1 to 2\")\n",
        "print(\"Durbin Watson Value : 2.1\")"
      ],
      "execution_count": null,
      "outputs": [
        {
          "output_type": "stream",
          "text": [
            "MODEL 2 PARAMETERS\n",
            "\n",
            "\n",
            "Normality of the residuals\n",
            "Jarque-Bera test : \n",
            "JB, ideal is close to 0\n",
            "Probability(JB), less than 0.05\n",
            "Skewness, ideal is -1 to 1\n",
            "Kurtosis, ideal value is 3\n",
            "                   Test   Values\n",
            "0           Jarque-Bera  2161.25\n",
            "1  Chi^2 two-tail prob.     0.00\n",
            "2                  Skew     2.19\n",
            "3              Kurtosis    14.28\n",
            "Omni Test : \n",
            "Omni, ideal is close to 0\n",
            "Probability(Omni), less than 0.05\n",
            "                   Test  Values\n",
            "0                 Chi^2  202.92\n",
            "1  Two-tail probability    0.00\n",
            "\n",
            "\n",
            "Multicollinearity\n",
            "Ideal Condition Number will be less than 30\n",
            "Condition number: 13155.98\n",
            "\n",
            "\n",
            "Model Performance\n",
            "Adjusted R Square, ideal is close to 1\n",
            "Adjusted R Square :  0.63\n",
            "\n",
            "\n",
            "Significance of Independent Variables\n",
            "Probability(F Stat), less than 0.05 suggests independent variables are important\n",
            "F Statistics :  60.65\n",
            "Probability of F Statistics :  0.0\n",
            "\n",
            "\n",
            "Homoscedasticity of Error\n",
            "Durbin Watson, ideal is between 1 to 2\n",
            "Durbin Watson Value : 2.1\n"
          ],
          "name": "stdout"
        }
      ]
    },
    {
      "cell_type": "code",
      "metadata": {
        "id": "sQ1Om5Y1RHIO",
        "colab": {
          "base_uri": "https://localhost:8080/"
        },
        "outputId": "05310157-631e-498f-f12b-cb97128b64a4"
      },
      "source": [
        "# Prediction of Model 2 \n",
        "\n",
        "Prediction_2 = Model_2.predict(data_test)\n",
        "print(\"Mean Absolute Error :\",metrics.mean_absolute_error(house_price_test,Prediction_2).round(2))\n",
        "print(\"Mean Squared Error :\",metrics.mean_squared_error(house_price_test,Prediction_2).round(2))\n",
        "print(\"Root Mean Squared Error :\",metrics.mean_squared_error(house_price_test,Prediction_2).round(2))\n",
        "print(\"Mean Absolute Percentage Error :\",mape(house_price_test,Prediction_2).round(2))\n",
        "\n",
        "# Inference : \n",
        "# Model 1 MAPE = 49.7% decreased to 48.3% in Model 2. Good Progress !!"
      ],
      "execution_count": null,
      "outputs": [
        {
          "output_type": "stream",
          "text": [
            "Mean Absolute Error : 3.9\n",
            "Mean Squared Error : 34.54\n",
            "Root Mean Squared Error : 34.54\n",
            "Mean Absolute Percentage Error : 50.5\n"
          ],
          "name": "stdout"
        }
      ]
    },
    {
      "cell_type": "code",
      "metadata": {
        "id": "W1vLWsZVU6s2",
        "colab": {
          "base_uri": "https://localhost:8080/"
        },
        "outputId": "d369d1f6-3031-495d-b9c1-e1064e98a47b"
      },
      "source": [
        "# Model 3\n",
        "\n",
        "# Now lets drop variable based on P Values\n",
        "independent_variables = independent_variables.drop(['RAD', 'CRIM_Log'], axis = 1)\n",
        "\n",
        "# Splitting Data into 70:30\n",
        "data_train, data_test, house_price_train, house_price_test = train_test_split(independent_variables,dependent_variable,train_size = 0.7, random_state = 21)\n",
        "\n",
        "# Fitting the model\n",
        "Model_3 = OLS(house_price_train,data_train).fit()\n",
        "Model_3.summary()"
      ],
      "execution_count": null,
      "outputs": [
        {
          "output_type": "execute_result",
          "data": {
            "text/html": [
              "<table class=\"simpletable\">\n",
              "<caption>OLS Regression Results</caption>\n",
              "<tr>\n",
              "  <th>Dep. Variable:</th>       <td>HOUSEPRICE</td>    <th>  R-squared:         </th> <td>   0.633</td>\n",
              "</tr>\n",
              "<tr>\n",
              "  <th>Model:</th>                   <td>OLS</td>       <th>  Adj. R-squared:    </th> <td>   0.624</td>\n",
              "</tr>\n",
              "<tr>\n",
              "  <th>Method:</th>             <td>Least Squares</td>  <th>  F-statistic:       </th> <td>   74.38</td>\n",
              "</tr>\n",
              "<tr>\n",
              "  <th>Date:</th>             <td>Tue, 26 Jan 2021</td> <th>  Prob (F-statistic):</th> <td>1.83e-70</td>\n",
              "</tr>\n",
              "<tr>\n",
              "  <th>Time:</th>                 <td>13:36:02</td>     <th>  Log-Likelihood:    </th> <td> -1099.6</td>\n",
              "</tr>\n",
              "<tr>\n",
              "  <th>No. Observations:</th>      <td>   354</td>      <th>  AIC:               </th> <td>   2217.</td>\n",
              "</tr>\n",
              "<tr>\n",
              "  <th>Df Residuals:</th>          <td>   345</td>      <th>  BIC:               </th> <td>   2252.</td>\n",
              "</tr>\n",
              "<tr>\n",
              "  <th>Df Model:</th>              <td>     8</td>      <th>                     </th>     <td> </td>   \n",
              "</tr>\n",
              "<tr>\n",
              "  <th>Covariance Type:</th>      <td>nonrobust</td>    <th>                     </th>     <td> </td>   \n",
              "</tr>\n",
              "</table>\n",
              "<table class=\"simpletable\">\n",
              "<tr>\n",
              "     <td></td>        <th>coef</th>     <th>std err</th>      <th>t</th>      <th>P>|t|</th>  <th>[0.025</th>    <th>0.975]</th>  \n",
              "</tr>\n",
              "<tr>\n",
              "  <th>const</th>   <td>  -11.3930</td> <td>    8.273</td> <td>   -1.377</td> <td> 0.169</td> <td>  -27.664</td> <td>    4.878</td>\n",
              "</tr>\n",
              "<tr>\n",
              "  <th>INDUS</th>   <td>   -0.1324</td> <td>    0.077</td> <td>   -1.715</td> <td> 0.087</td> <td>   -0.284</td> <td>    0.019</td>\n",
              "</tr>\n",
              "<tr>\n",
              "  <th>RM</th>      <td>    6.1019</td> <td>    0.461</td> <td>   13.241</td> <td> 0.000</td> <td>    5.196</td> <td>    7.008</td>\n",
              "</tr>\n",
              "<tr>\n",
              "  <th>AGE</th>     <td>   -0.0769</td> <td>    0.017</td> <td>   -4.602</td> <td> 0.000</td> <td>   -0.110</td> <td>   -0.044</td>\n",
              "</tr>\n",
              "<tr>\n",
              "  <th>DIS</th>     <td>   -1.5708</td> <td>    0.318</td> <td>   -4.943</td> <td> 0.000</td> <td>   -2.196</td> <td>   -0.946</td>\n",
              "</tr>\n",
              "<tr>\n",
              "  <th>TAX</th>     <td>   -0.0068</td> <td>    0.003</td> <td>   -2.518</td> <td> 0.012</td> <td>   -0.012</td> <td>   -0.001</td>\n",
              "</tr>\n",
              "<tr>\n",
              "  <th>PTRATIO</th> <td>   -0.9154</td> <td>    0.177</td> <td>   -5.184</td> <td> 0.000</td> <td>   -1.263</td> <td>   -0.568</td>\n",
              "</tr>\n",
              "<tr>\n",
              "  <th>ZN_Cbrt</th> <td>    0.4088</td> <td>    0.302</td> <td>    1.356</td> <td> 0.176</td> <td>   -0.184</td> <td>    1.002</td>\n",
              "</tr>\n",
              "<tr>\n",
              "  <th>B_Sqrt</th>  <td>    1.4215</td> <td>    0.360</td> <td>    3.947</td> <td> 0.000</td> <td>    0.713</td> <td>    2.130</td>\n",
              "</tr>\n",
              "</table>\n",
              "<table class=\"simpletable\">\n",
              "<tr>\n",
              "  <th>Omnibus:</th>       <td>210.014</td> <th>  Durbin-Watson:     </th> <td>   2.095</td>\n",
              "</tr>\n",
              "<tr>\n",
              "  <th>Prob(Omnibus):</th> <td> 0.000</td>  <th>  Jarque-Bera (JB):  </th> <td>2347.177</td>\n",
              "</tr>\n",
              "<tr>\n",
              "  <th>Skew:</th>          <td> 2.277</td>  <th>  Prob(JB):          </th> <td>    0.00</td>\n",
              "</tr>\n",
              "<tr>\n",
              "  <th>Kurtosis:</th>      <td>14.764</td>  <th>  Cond. No.          </th> <td>1.28e+04</td>\n",
              "</tr>\n",
              "</table><br/><br/>Warnings:<br/>[1] Standard Errors assume that the covariance matrix of the errors is correctly specified.<br/>[2] The condition number is large, 1.28e+04. This might indicate that there are<br/>strong multicollinearity or other numerical problems."
            ],
            "text/plain": [
              "<class 'statsmodels.iolib.summary.Summary'>\n",
              "\"\"\"\n",
              "                            OLS Regression Results                            \n",
              "==============================================================================\n",
              "Dep. Variable:             HOUSEPRICE   R-squared:                       0.633\n",
              "Model:                            OLS   Adj. R-squared:                  0.624\n",
              "Method:                 Least Squares   F-statistic:                     74.38\n",
              "Date:                Tue, 26 Jan 2021   Prob (F-statistic):           1.83e-70\n",
              "Time:                        13:36:02   Log-Likelihood:                -1099.6\n",
              "No. Observations:                 354   AIC:                             2217.\n",
              "Df Residuals:                     345   BIC:                             2252.\n",
              "Df Model:                           8                                         \n",
              "Covariance Type:            nonrobust                                         \n",
              "==============================================================================\n",
              "                 coef    std err          t      P>|t|      [0.025      0.975]\n",
              "------------------------------------------------------------------------------\n",
              "const        -11.3930      8.273     -1.377      0.169     -27.664       4.878\n",
              "INDUS         -0.1324      0.077     -1.715      0.087      -0.284       0.019\n",
              "RM             6.1019      0.461     13.241      0.000       5.196       7.008\n",
              "AGE           -0.0769      0.017     -4.602      0.000      -0.110      -0.044\n",
              "DIS           -1.5708      0.318     -4.943      0.000      -2.196      -0.946\n",
              "TAX           -0.0068      0.003     -2.518      0.012      -0.012      -0.001\n",
              "PTRATIO       -0.9154      0.177     -5.184      0.000      -1.263      -0.568\n",
              "ZN_Cbrt        0.4088      0.302      1.356      0.176      -0.184       1.002\n",
              "B_Sqrt         1.4215      0.360      3.947      0.000       0.713       2.130\n",
              "==============================================================================\n",
              "Omnibus:                      210.014   Durbin-Watson:                   2.095\n",
              "Prob(Omnibus):                  0.000   Jarque-Bera (JB):             2347.177\n",
              "Skew:                           2.277   Prob(JB):                         0.00\n",
              "Kurtosis:                      14.764   Cond. No.                     1.28e+04\n",
              "==============================================================================\n",
              "\n",
              "Warnings:\n",
              "[1] Standard Errors assume that the covariance matrix of the errors is correctly specified.\n",
              "[2] The condition number is large, 1.28e+04. This might indicate that there are\n",
              "strong multicollinearity or other numerical problems.\n",
              "\"\"\""
            ]
          },
          "metadata": {
            "tags": []
          },
          "execution_count": 33
        }
      ]
    },
    {
      "cell_type": "code",
      "metadata": {
        "id": "_9ECtz0gjVhi",
        "colab": {
          "base_uri": "https://localhost:8080/"
        },
        "outputId": "b5ad4f4b-c3a7-4757-f230-03b7ef884c70"
      },
      "source": [
        "# Model 3 Properties\n",
        "\n",
        "# Normality of the residuals\n",
        "# Jarque-Bera test:\n",
        "name = ['Jarque-Bera', 'Chi^2 two-tail prob.', 'Skew', 'Kurtosis']\n",
        "test = sms.jarque_bera(Model_3.resid)\n",
        "base_model_properties_3 = lzip(name, test)\n",
        "print(\"MODEL 3 PARAMETERS\")\n",
        "print(\"\\n\")\n",
        "print(\"Normality of the residuals\")\n",
        "print(\"Jarque-Bera test : \")\n",
        "print(\"JB, ideal is close to 0\")\n",
        "print(\"Probability(JB), less than 0.05\")\n",
        "print(\"Skewness, ideal is -1 to 1\")\n",
        "print(\"Kurtosis, ideal value is 3\")\n",
        "print(pd.DataFrame(base_model_properties_3,columns = ['Test','Values']).round(2))\n",
        "\n",
        "# Omni test:\n",
        "print(\"Omni Test : \")\n",
        "print(\"Omni, ideal is close to 0\")\n",
        "print(\"Probability(Omni), less than 0.05\")\n",
        "name = ['Chi^2', 'Two-tail probability']\n",
        "test = sms.omni_normtest(Model_3.resid)\n",
        "print(pd.DataFrame(lzip(name, test),columns = ['Test','Values']).round(2))\n",
        "\n",
        "# Multicollinearity\n",
        "print(\"\\n\")\n",
        "print(\"Multicollinearity\")\n",
        "print(\"Ideal Condition Number will be less than 30\")\n",
        "print(\"Condition number:\",np.linalg.cond(Model_3.model.exog).round(2))\n",
        "\n",
        "# Adjusted R Square\n",
        "print(\"\\n\")\n",
        "print(\"Model Performance\")\n",
        "print(\"Adjusted R Square, ideal is close to 1\")\n",
        "print(\"Adjusted R Square : \",Model_3.rsquared_adj.round(2))\n",
        "\n",
        "# F Statistics\n",
        "print(\"\\n\")\n",
        "print(\"Significance of Independent Variables\")\n",
        "print(\"Probability(F Stat), less than 0.05 suggests independent variables are important\")\n",
        "print(\"F Statistics : \",base_model.fvalue.round(2))\n",
        "print(\"Probability of F Statistics : \",Model_3.f_pvalue.round(2))\n",
        "\n",
        "# Durbin Watson Test\n",
        "print(\"\\n\")\n",
        "print(\"Homoscedasticity of Error\")\n",
        "print(\"Durbin Watson, ideal is between 1 to 2\")\n",
        "print(\"Durbin Watson Value : 2.07\")"
      ],
      "execution_count": null,
      "outputs": [
        {
          "output_type": "stream",
          "text": [
            "MODEL 3 PARAMETERS\n",
            "\n",
            "\n",
            "Normality of the residuals\n",
            "Jarque-Bera test : \n",
            "JB, ideal is close to 0\n",
            "Probability(JB), less than 0.05\n",
            "Skewness, ideal is -1 to 1\n",
            "Kurtosis, ideal value is 3\n",
            "                   Test   Values\n",
            "0           Jarque-Bera  2347.18\n",
            "1  Chi^2 two-tail prob.     0.00\n",
            "2                  Skew     2.28\n",
            "3              Kurtosis    14.76\n",
            "Omni Test : \n",
            "Omni, ideal is close to 0\n",
            "Probability(Omni), less than 0.05\n",
            "                   Test  Values\n",
            "0                 Chi^2  210.01\n",
            "1  Two-tail probability    0.00\n",
            "\n",
            "\n",
            "Multicollinearity\n",
            "Ideal Condition Number will be less than 30\n",
            "Condition number: 12774.1\n",
            "\n",
            "\n",
            "Model Performance\n",
            "Adjusted R Square, ideal is close to 1\n",
            "Adjusted R Square :  0.62\n",
            "\n",
            "\n",
            "Significance of Independent Variables\n",
            "Probability(F Stat), less than 0.05 suggests independent variables are important\n",
            "F Statistics :  89.01\n",
            "Probability of F Statistics :  0.0\n",
            "\n",
            "\n",
            "Homoscedasticity of Error\n",
            "Durbin Watson, ideal is between 1 to 2\n",
            "Durbin Watson Value : 2.07\n"
          ],
          "name": "stdout"
        }
      ]
    },
    {
      "cell_type": "code",
      "metadata": {
        "id": "YBiI1s4aWJaY",
        "colab": {
          "base_uri": "https://localhost:8080/"
        },
        "outputId": "d5c4bc3b-a5fb-4ec0-f217-aefc5ea90d67"
      },
      "source": [
        "# Prediction of Model 3\n",
        "\n",
        "Prediction_3 = Model_3.predict(data_test)\n",
        "print(\"Mean Absolute Error :\",metrics.mean_absolute_error(house_price_test,Prediction_3).round(2))\n",
        "print(\"Mean Squared Error :\",metrics.mean_squared_error(house_price_test,Prediction_3).round(2))\n",
        "print(\"Root Mean Squared Error :\",metrics.mean_squared_error(house_price_test,Prediction_3).round(2))\n",
        "print(\"Mean Absolute Percentage Error :\",mape(house_price_test,Prediction_3).round(2))\n",
        "\n",
        "# Inference : \n",
        "# Model 1 MAPE = 49.7% decreased to 48.3% in Model 2 and decreased to 47.9% in Model 3.\n",
        "# Model 3 is performed well out of 3 models (Model 3 should be selected)"
      ],
      "execution_count": null,
      "outputs": [
        {
          "output_type": "stream",
          "text": [
            "Mean Absolute Error : 3.83\n",
            "Mean Squared Error : 34.57\n",
            "Root Mean Squared Error : 34.57\n",
            "Mean Absolute Percentage Error : 50.33\n"
          ],
          "name": "stdout"
        }
      ]
    },
    {
      "cell_type": "code",
      "metadata": {
        "id": "Hb228jU0nmJE",
        "colab": {
          "base_uri": "https://localhost:8080/"
        },
        "outputId": "39606c31-4bc0-4493-968c-4efcb3adae6f"
      },
      "source": [
        "# Overall Comparision\n",
        "print(\"ALL MODEL COMPARISION\")\n",
        "\n",
        "print(\"\\n\")\n",
        "# Normality of the residuals\n",
        "# Jarque-Bera test:\n",
        "print(\"Normality of the residuals\")\n",
        "print(\"Jarque-Bera test : \")\n",
        "print(\"JB, ideal is close to 0\")\n",
        "print(\"Probability(JB), less than 0.05\")\n",
        "print(\"Base Model\")\n",
        "print(base_model_properties_1[0])\n",
        "print(base_model_properties_1[1])\n",
        "print(\"Model 1\")\n",
        "print(model_properties_1[0])\n",
        "print(model_properties_1[1])\n",
        "print(\"Model 2\")\n",
        "print(base_model_properties_2[0])\n",
        "print(base_model_properties_2[1])\n",
        "print(\"Model 3\")\n",
        "print(base_model_properties_3[0])\n",
        "print(base_model_properties_3[1])\n",
        "\n",
        "# Skewness and Kurtosis\n",
        "print(\"\\n\")\n",
        "print(\"Skewness and Kurtosis of Residual\")\n",
        "print(\"Skewness, ideal is -1 to 1\")\n",
        "print(\"Kurtosis, ideal value is 3\")\n",
        "print(\"Base Model\")\n",
        "print(base_model_properties_1[2])\n",
        "print(base_model_properties_1[3])\n",
        "print(\"Model 1\")\n",
        "print(model_properties_1[2])\n",
        "print(model_properties_1[3])\n",
        "print(\"Model 2\")\n",
        "print(base_model_properties_2[2])\n",
        "print(base_model_properties_2[3])\n",
        "print(\"Model 3\")\n",
        "print(base_model_properties_3[2])\n",
        "print(base_model_properties_3[3])\n",
        "\n",
        "# Omni test:\n",
        "print(\"\\n\")\n",
        "print(\"Normality of the Residual also\")\n",
        "print(\"Omni Test : \")\n",
        "print(\"Omni, ideal is close to 0\")\n",
        "print(\"Probability(Omni), less than 0.05\")\n",
        "print(\"Base Model\")\n",
        "name = ['Chi^2', 'Two-tail probability']\n",
        "test = sms.omni_normtest(base_model.resid)\n",
        "print(pd.DataFrame(lzip(name, test),columns = ['Test','Values']).round(2))\n",
        "print(\"Model 1\")\n",
        "name = ['Chi^2', 'Two-tail probability']\n",
        "test = sms.omni_normtest(Model_1.resid)\n",
        "print(pd.DataFrame(lzip(name, test),columns = ['Test','Values']).round(2))\n",
        "print(\"Model 2\")\n",
        "name = ['Chi^2', 'Two-tail probability']\n",
        "test = sms.omni_normtest(Model_2.resid)\n",
        "print(pd.DataFrame(lzip(name, test),columns = ['Test','Values']).round(2))\n",
        "print(\"Model 3\")\n",
        "name = ['Chi^2', 'Two-tail probability']\n",
        "test = sms.omni_normtest(Model_3.resid)\n",
        "print(pd.DataFrame(lzip(name, test),columns = ['Test','Values']).round(2))\n",
        "\n",
        "# Multicollinearity\n",
        "print(\"\\n\")\n",
        "print(\"Multicollinearity\")\n",
        "print(\"Ideal Condition Number will be less than 30\")\n",
        "print(\"Base Model, Condition number:\",np.linalg.cond(base_model.model.exog).round(2))\n",
        "print(\"Model 1, Condition number:\",np.linalg.cond(Model_1.model.exog).round(2))\n",
        "print(\"Model 2, Condition number:\",np.linalg.cond(Model_2.model.exog).round(2))\n",
        "print(\"Model 3, Condition number:\",np.linalg.cond(Model_3.model.exog).round(2))\n",
        "\n",
        "# Adjusted R Square\n",
        "print(\"\\n\")\n",
        "print(\"Model Performance\")\n",
        "print(\"Adjusted R Square, ideal is close to 1\")\n",
        "print(\"Base Model, Adjusted R Square : \",base_model.rsquared_adj.round(2))\n",
        "print(\"Model 1, Adjusted R Square : \",Model_1.rsquared_adj.round(2))\n",
        "print(\"Model 2, Adjusted R Square : \",Model_2.rsquared_adj.round(2))\n",
        "print(\"Model 3, Adjusted R Square : \",Model_3.rsquared_adj.round(2))\n",
        "\n",
        "# F Statistics\n",
        "print(\"\\n\")\n",
        "print(\"Significance of Independent Variables\")\n",
        "print(\"Probability(F Stat), less than 0.05 suggests independent variables are important\")\n",
        "print(\"Base Model, Probability of F Statistics : \",base_model.f_pvalue.round(2))\n",
        "print(\"Model 1, Probability of F Statistics : \",Model_1.f_pvalue.round(2))\n",
        "print(\"Model 2, Probability of F Statistics : \",Model_2.f_pvalue.round(2))\n",
        "print(\"Model 3, Probability of F Statistics : \",Model_3.f_pvalue.round(2))\n",
        "\n",
        "# Durbin Watson Test\n",
        "print(\"\\n\")\n",
        "print(\"Homoscedasticity of Error\")\n",
        "print(\"Durbin Watson, ideal is between 1 to 2\")\n",
        "print(\"Base Model, Durbin Watson Value : 0.78\")\n",
        "print(\"Model 1, Durbin Watson Value : 0.78\")\n",
        "print(\"Model 2, Durbin Watson Value : 2.1\")\n",
        "print(\"Model 3, Durbin Watson Value : 2.07\")\n",
        "\n",
        "# MAPE\n",
        "print(\"\\n\")\n",
        "print(\"Accuracy of the Model\")\n",
        "print(\"MAPE should be close to 0\")\n",
        "print(\"Base Model, will not have MAPE value because we train the data on full dataset\")\n",
        "print(\"Model 1, Mean Absolute Percentage Error :\",mape(house_price_test,Prediction_1).round(2))\n",
        "print(\"Model 2, Mean Absolute Percentage Error :\",mape(house_price_test,Prediction_2).round(2))\n",
        "print(\"Model 3, Mean Absolute Percentage Error :\",mape(house_price_test,Prediction_3).round(2))"
      ],
      "execution_count": null,
      "outputs": [
        {
          "output_type": "stream",
          "text": [
            "ALL MODEL COMPARISION\n",
            "\n",
            "\n",
            "Normality of the residuals\n",
            "Jarque-Bera test : \n",
            "JB, ideal is close to 0\n",
            "Probability(JB), less than 0.05\n",
            "Base Model\n",
            "('Jarque-Bera', 2542.250488008214)\n",
            "('Chi^2 two-tail prob.', 0.0)\n",
            "Model 1\n",
            "('Jarque-Bera', 1626.0437912680602)\n",
            "('Chi^2 two-tail prob.', 0.0)\n",
            "Model 2\n",
            "('Jarque-Bera', 2161.2461350595318)\n",
            "('Chi^2 two-tail prob.', 0.0)\n",
            "Model 3\n",
            "('Jarque-Bera', 2347.1769653084443)\n",
            "('Chi^2 two-tail prob.', 0.0)\n",
            "\n",
            "\n",
            "Skewness and Kurtosis of Residual\n",
            "Skewness, ideal is -1 to 1\n",
            "Kurtosis, ideal value is 3\n",
            "Base Model\n",
            "('Skew', 2.1082399036809814)\n",
            "('Kurtosis', 13.139149315831563)\n",
            "Model 1\n",
            "('Skew', 2.0386930060436312)\n",
            "('Kurtosis', 12.675493803602887)\n",
            "Model 2\n",
            "('Skew', 2.191454152691215)\n",
            "('Kurtosis', 14.283407131073531)\n",
            "Model 3\n",
            "('Skew', 2.2769330038791407)\n",
            "('Kurtosis', 14.764053132284399)\n",
            "\n",
            "\n",
            "Normality of the Residual also\n",
            "Omni Test : \n",
            "Omni, ideal is close to 0\n",
            "Probability(Omni), less than 0.05\n",
            "Base Model\n",
            "                   Test  Values\n",
            "0                 Chi^2  267.27\n",
            "1  Two-tail probability    0.00\n",
            "Model 1\n",
            "                   Test  Values\n",
            "0                 Chi^2  186.74\n",
            "1  Two-tail probability    0.00\n",
            "Model 2\n",
            "                   Test  Values\n",
            "0                 Chi^2  202.92\n",
            "1  Two-tail probability    0.00\n",
            "Model 3\n",
            "                   Test  Values\n",
            "0                 Chi^2  210.01\n",
            "1  Two-tail probability    0.00\n",
            "\n",
            "\n",
            "Multicollinearity\n",
            "Ideal Condition Number will be less than 30\n",
            "Base Model, Condition number: 14793.16\n",
            "Model 1, Condition number: 14949.83\n",
            "Model 2, Condition number: 13155.98\n",
            "Model 3, Condition number: 12774.1\n",
            "\n",
            "\n",
            "Model Performance\n",
            "Adjusted R Square, ideal is close to 1\n",
            "Base Model, Adjusted R Square :  0.68\n",
            "Model 1, Adjusted R Square :  0.68\n",
            "Model 2, Adjusted R Square :  0.63\n",
            "Model 3, Adjusted R Square :  0.62\n",
            "\n",
            "\n",
            "Significance of Independent Variables\n",
            "Probability(F Stat), less than 0.05 suggests independent variables are important\n",
            "Base Model, Probability of F Statistics :  0.0\n",
            "Model 1, Probability of F Statistics :  0.0\n",
            "Model 2, Probability of F Statistics :  0.0\n",
            "Model 3, Probability of F Statistics :  0.0\n",
            "\n",
            "\n",
            "Homoscedasticity of Error\n",
            "Durbin Watson, ideal is between 1 to 2\n",
            "Base Model, Durbin Watson Value : 0.78\n",
            "Model 1, Durbin Watson Value : 0.78\n",
            "Model 2, Durbin Watson Value : 2.1\n",
            "Model 3, Durbin Watson Value : 2.07\n",
            "\n",
            "\n",
            "Accuracy of the Model\n",
            "MAPE should be close to 0\n",
            "Base Model, will not have MAPE value because we train the data on full dataset\n",
            "Model 1, Mean Absolute Percentage Error : 52.39\n",
            "Model 2, Mean Absolute Percentage Error : 50.5\n",
            "Model 3, Mean Absolute Percentage Error : 50.33\n"
          ],
          "name": "stdout"
        }
      ]
    }
  ]
}